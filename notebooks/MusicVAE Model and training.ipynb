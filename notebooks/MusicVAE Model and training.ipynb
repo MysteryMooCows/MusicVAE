{
 "cells": [
  {
   "cell_type": "code",
   "execution_count": 45,
   "metadata": {
    "colab": {},
    "colab_type": "code",
    "id": "AzAJsTx5iY63"
   },
   "outputs": [
    {
     "name": "stderr",
     "output_type": "stream",
     "text": [
      "D:\\Users\\Ramiro\\Anaconda3\\lib\\site-packages\\wheel\\pep425tags.py:75: RuntimeWarning: Config variable 'Py_DEBUG' is unset, Python ABI tag may be incorrect\n",
      "  warn=(impl == 'cp')):\n",
      "D:\\Users\\Ramiro\\Anaconda3\\lib\\site-packages\\wheel\\pep425tags.py:79: RuntimeWarning: Config variable 'WITH_PYMALLOC' is unset, Python ABI tag may be incorrect\n",
      "  warn=(impl == 'cp')):\n",
      "torch-0.4.1-cp36-cp36m-linux_x86_64.whl is not a supported wheel on this platform.\n"
     ]
    }
   ],
   "source": [
    "# http://pytorch.org/\n",
    "from os.path import exists\n",
    "from wheel.pep425tags import get_abbr_impl, get_impl_ver, get_abi_tag\n",
    "platform = '{}{}-{}'.format(get_abbr_impl(), get_impl_ver(), get_abi_tag())\n",
    "cuda_output = !ldconfig -p|grep cudart.so|sed -e 's/.*\\.\\([0-9]*\\)\\.\\([0-9]*\\)$/cu\\1\\2/'\n",
    "accelerator = cuda_output[0] if exists('/dev/nvidia0') else 'cpu'\n",
    "\n",
    "!pip install -q http://download.pytorch.org/whl/{accelerator}/torch-0.4.1-{platform}-linux_x86_64.whl torchvision"
   ]
  },
  {
   "cell_type": "code",
   "execution_count": 201,
   "metadata": {
    "colab": {},
    "colab_type": "code",
    "id": "_jKJvXJNBa_a"
   },
   "outputs": [],
   "source": [
    "import torch\n",
    "\n",
    "cuda = torch.cuda.is_available()\n",
    "device = torch.device(\"cuda\" if torch.cuda.is_available() else \"cpu\")\n",
    "import numpy as np\n",
    "\n",
    "totalbars=32 #total bars as input\n",
    "NUM_PITCHES=4 # all possible notes to play\n",
    "\n",
    "\n",
    "NOTESPERBAR=16\n",
    "TOTAL_NOTES=NOTESPERBAR*totalbars\n",
    "\n",
    "num_features=NUM_PITCHES #size of input feature vector\n",
    "\n",
    "teacherforcing=False #not used but it will be needed\n"
   ]
  },
  {
   "cell_type": "code",
   "execution_count": 202,
   "metadata": {
    "colab": {
     "base_uri": "https://localhost:8080/",
     "height": 617
    },
    "colab_type": "code",
    "id": "6Am8YawCBqE1",
    "outputId": "bb27b32f-6a1e-4e45-de66-c74622ec3f68"
   },
   "outputs": [
    {
     "name": "stdout",
     "output_type": "stream",
     "text": [
      "[0 0 0 3 1 3 1 2 3 3 2 0 3 1 2 3 0 2 3 3 2 2 2 0 0 2 3 2 0 3 2 2 2 2 2 1 1\n",
      " 3 0 0 1 3 0 3 3 0 2 1 0 0 3 3 1 0 0 1 3 3 2 2 1 3 1 0 0 0 3 1 3 1 3 1 0 1\n",
      " 3 0 1 3 2 0 3 0 0 1 1 3 3 0 3 1 3 3 1 1 1 1 0 3 2 0 2 0 3 0 2 3 1 0 3 0 1\n",
      " 2 0 3 0 2 1 1 1 0 3 3 0 0 0 1 2 3 1 2 1 0 3 1 3 2 1 2 3 0 2 0 0 1 0 2 2 2\n",
      " 3 0 2 2 1 3 1 0 1 0 0 0 1 2 3 2 2 2 2 0 1 3 0 1 2 0 3 2 0 0 1 0 2 3 2 0 1\n",
      " 0 3 3 3 0 1 1 2 3 1 0 1 2 1 2 3 2 3 1 0 2 1 3 2 3 2 3 0 3 3 0 3 1 1 2 3 2\n",
      " 2 0 1 0 1 0 0 3 3 2 1 1 1 0 1 3 2 2 2 1 0 2 2 1 2 2 3 2 0 1 0 2 0 2 2 1 3\n",
      " 3 3 3 3 3 1 3 2 2 2 0 0 2 3 2 0 0 0 2 2 3 1 2 2 1 1 2 0 2 0 2 2 0 0 3 0 1\n",
      " 3 2 3 1 2 3 0 1 2 1 1 2 1 2 0 2 1 0 0 1 1 3 2 1 0 1 0 0 2 1 3 1 2 0 1 0 1\n",
      " 1 3 0 0 2 1 3 3 0 1 3 1 0 3 1 1 2 1 1 3 0 1 3 3 0 0 2 1 0 3 3 0 1 0 1 3 2\n",
      " 3 2 0 3 1 3 0 1 1 0 3 2 0 1 0 2 1 2 1 0 3 3 0 0 3 0 2 3 2 0 1 1 0 2 3 0 2\n",
      " 3 0 2 1 1 2 0 1 3 1 0 0 1 1 2 0 3 2 3 3 2 3 2 1 2 2 0 1 3 3 1 3 1 2 2 1 2\n",
      " 3 3 2 0 2 3 2 0 3 0 2 1 1 3 0 3 1 2 3 0 0 2 1 0 0 3 2 1 0 0 1 2 2 1 3 0 0\n",
      " 3 0 2 0 1 3 1 2 1 0 0 2 1 1 2 3 1 2 3 3 3 1 1 2 2 3 2 2 2 2 2]\n"
     ]
    },
    {
     "data": {
      "text/plain": [
       "(1, 512, 4)"
      ]
     },
     "execution_count": 202,
     "metadata": {},
     "output_type": "execute_result"
    }
   ],
   "source": [
    "\n",
    "batch_size=1\n",
    "\n",
    "\n",
    "\n",
    "#Generating dummy data\n",
    "a= np.random.randint(NUM_PITCHES, size=TOTAL_NOTES)\n",
    "print(a)\n",
    "data = np.zeros((TOTAL_NOTES, NUM_PITCHES))\n",
    "data[np.arange(TOTAL_NOTES), a] = 1 #generating dummy data\n",
    "\n",
    "\n",
    "#adding 1 dimension, 1x32x4\n",
    "data = data[np.newaxis, :, :]\n",
    "\n",
    "data.shape"
   ]
  },
  {
   "cell_type": "code",
   "execution_count": 203,
   "metadata": {
    "colab": {},
    "colab_type": "code",
    "id": "PJxAx0yoExnU"
   },
   "outputs": [],
   "source": [
    "#half of this is not yet needed but maybe it will be to visualize the latent space\n",
    "import matplotlib.pyplot as plt\n",
    "from IPython.display import Image, display, clear_output\n",
    "import numpy as np\n",
    "from sklearn.decomposition import PCA\n",
    "%matplotlib nbagg\n",
    "%matplotlib inline\n",
    "import seaborn as sns\n",
    "sns.set_style(\"whitegrid\")\n",
    "sns.set_palette(sns.dark_palette(\"purple\"))"
   ]
  },
  {
   "cell_type": "markdown",
   "metadata": {
    "colab_type": "text",
    "id": "n1jGsBaPFNmy"
   },
   "source": [
    "MODEL:"
   ]
  },
  {
   "cell_type": "code",
   "execution_count": 206,
   "metadata": {
    "colab": {
     "base_uri": "https://localhost:8080/",
     "height": 126
    },
    "colab_type": "code",
    "id": "2ASED3VFFKoU",
    "outputId": "540ba87b-7ebd-4565-b6c0-0a3f8ad3ebb8"
   },
   "outputs": [
    {
     "name": "stdout",
     "output_type": "stream",
     "text": [
      "VariationalAutoencoder(\n",
      "  (encoder): LSTM(4, 2048, batch_first=True, bidirectional=True)\n",
      "  (encoderOut): Linear(in_features=4096, out_features=1024, bias=True)\n",
      "  (decoderIn): Linear(in_features=512, out_features=512, bias=True)\n",
      "  (conductor): LSTM(512, 1024, num_layers=2, batch_first=True)\n",
      "  (conductorout): Linear(in_features=512, out_features=32, bias=True)\n",
      ")\n"
     ]
    }
   ],
   "source": [
    "import torch.nn as nn\n",
    "from torch.nn.functional import softplus\n",
    "\n",
    "# define size variables\n",
    "input_size = NUM_PITCHES\n",
    "\n",
    "enc_hidden_size=2048 #hidden size of encoder\n",
    "conductor_hidden_size=1024 #hidden size of decoder\n",
    "\n",
    "\n",
    "decoders_hidden_size=1024 #hidden size of decoder\n",
    "decoders_initial_size=512 #decoder input size\n",
    "\n",
    "n_embeddings=16\n",
    "\n",
    "n_layers_conductor=2\n",
    "n_layers_decoder=3\n",
    "\n",
    "\n",
    "latent_features=512 #latent space dimension\n",
    "\n",
    "\n",
    "\n",
    "class VariationalAutoencoder(nn.Module):\n",
    "    def __init__(self, latent_features):\n",
    "        super(VariationalAutoencoder, self).__init__()\n",
    "        \n",
    "        self.latent_features = latent_features\n",
    "       \n",
    "        \n",
    "        \n",
    "        #data goes into bidirectional encoder\n",
    "        self.encoder = torch.nn.LSTM(\n",
    "                batch_first = True,\n",
    "                input_size = input_size,\n",
    "                hidden_size = enc_hidden_size,\n",
    "                num_layers = 1,\n",
    "                bidirectional = True)\n",
    "        \n",
    "        #encoded data goes onto connect linear layer. inputs must be*2 because LSTM is bidirectional\n",
    "        #output must be 2*latentspace because it needs to be split into miu and sigma right after.\n",
    "        self.encoderOut = nn.Linear(in_features=enc_hidden_size*2, out_features=latent_features*2)\n",
    "        \n",
    "        \n",
    "        #Model after this line has not been tested -------------\n",
    "        self.decoderIn = nn.Linear(in_features=latent_features, out_features=conductor_initial_size)\n",
    "        \n",
    "        # The latent code must be decoded into the original image\n",
    "        self.conductor = torch.nn.LSTM(\n",
    "                batch_first=True,\n",
    "                input_size=self.latent_features,\n",
    "                hidden_size=conductor_hidden_size,\n",
    "                num_layers=2,\n",
    "                bidirectional = False)\n",
    "                \n",
    "                #Model after this line has not been tested -------------\n",
    "        self.conductorout = nn.Linear(in_features=TOTAL_NOTES, out_features=2*n_embeddings)    \n",
    "            \n",
    "        # The latent code must be decoded into the original image\n",
    "        self.decoders = [torch.nn.LSTM(\n",
    "                batch_first=True,\n",
    "                input_size=decoders_initial_size,\n",
    "                hidden_size=decoders_hidden_size,\n",
    "                num_layers=2,\n",
    "                bidirectional = False)] * n_embeddings\n",
    "\n",
    "    #used to initialize the hidden layer of the encoder to zero before every batch\n",
    "    def init_hidden(self, batch_size):\n",
    "      #must be 2 x batch x hidden_size because its a bi-directional LSTM\n",
    "      init = torch.zeros(2, batch_size, enc_hidden_size, device=device)\n",
    "      c0 = torch.zeros(2, batch_size, enc_hidden_size, device=device)\n",
    "    \n",
    "      #2 because has 2 layers\n",
    "      init_conductor = torch.zeros(n_layers_conductor, batch_size, conductor_hidden_size, device=device)\n",
    "      c_condunctor = torch.zeros(n_layers_conductor, batch_size, conductor_hidden_size, device=device)\n",
    "    \n",
    "      #2 because has 2 layers\n",
    "      init_decoders = torch.zeros(n_layers_decoder, batch_size, decoders_hidden_size, device=device)\n",
    "      c_decoders= torch.zeros(n_layers_decoder, batch_size, decoders_hidden_size, device=device)\n",
    "        \n",
    "        \n",
    "      return init,c0,init_conductor,c_condunctor,init_decoders,c_decoders\n",
    "\n",
    "\n",
    "    def forward(self, x): \n",
    "        outputs = {}\n",
    "        \n",
    "        print(\"INPUT SIZE\",x.size())\n",
    "        \n",
    "        #creates hidden layer values\n",
    "        h0,c0,hconductor,cconductor,hdecoders,cdecoders = self.init_hidden(batch_size)\n",
    "        \n",
    "        #resets encoder at the beginning of every batch\n",
    "        x, hidden = self.encoder(x, ( h0,c0))\n",
    "          \n",
    "        print(\"after rnn SIZE\",x.shape)\n",
    "        \n",
    "        #goes from 4096 to 1024\n",
    "        x = self.encoderOut(x)\n",
    "        \n",
    "        print(\"after linear\",x.shape)\n",
    "        \n",
    "        # Split encoder outputs into a mean and variance vector\n",
    "        mu, log_var = torch.chunk(x, 2, dim=-1)\n",
    "        \n",
    "        print(\"MU SIZE\",mu.shape)\n",
    "        print(\"LOG SIZE\",log_var.shape)\n",
    "        \n",
    "        # Make sure that the log variance is positive\n",
    "        log_var = softplus(log_var)\n",
    "        \n",
    "       \n",
    "        # :- Reparametrisation trick\n",
    "        # a sample from N(mu, sigma) is mu + sigma * epsilon\n",
    "        # where epsilon ~ N(0, 1)\n",
    "                \n",
    "        # Don't propagate gradients through randomness\n",
    "        with torch.no_grad():\n",
    "            batch_size = mu.size(0)\n",
    "            epsilon = torch.randn(batch_size, 1, self.latent_features)\n",
    "            \n",
    "            if cuda:\n",
    "                epsilon = epsilon.cuda()\n",
    "        \n",
    "        #setting sigma\n",
    "        sigma = torch.exp(log_var*2)\n",
    "        \n",
    "        \n",
    "        print(\"epsilon\",epsilon.shape)\n",
    "        \n",
    "        print(\"ready to make latent space\",sigma.shape)\n",
    "        \n",
    "        #generate z\n",
    "        z = mu + epsilon * sigma        \n",
    "        \n",
    "        print(\"z space generated\",z.shape)\n",
    "        \n",
    "        \n",
    "        #NOT DONE AFTER THIS\n",
    "        \n",
    "        # Run through decoder\n",
    "        x, hidden = self.conductor(z, ( hconductor,cconductor))\n",
    "        \n",
    "        print(\"conductor\",x.shape)\n",
    "        \n",
    "        x = x.permute(0, 2, 1)\n",
    "        \n",
    "        x = self.conductorout(x)\n",
    "        \n",
    "        x = x.permute(0, 2, 1)\n",
    "        \n",
    "        \n",
    "        print(\"conductor after lin\",x.shape)\n",
    "        \n",
    "        mu_embeddings, log_var_embeddings = torch.chunk(x, 2, dim=-2)\n",
    "        \n",
    "        \n",
    "        \n",
    "        \n",
    "        # Make sure that the log variance is positive\n",
    "        log_var_embeddings = softplus(log_var_embeddings)\n",
    "        \n",
    "        # :- Reparametrisation trick\n",
    "        # a sample from N(mu, sigma) is mu + sigma * epsilon\n",
    "        # where epsilon ~ N(0, 1)\n",
    "                \n",
    "        # Don't propagate gradients through randomness\n",
    "        with torch.no_grad():\n",
    "            \n",
    "            epsilon_embeddings = torch.randn(mu.size(0), 1, conductor_hidden_size)\n",
    "            \n",
    "            if cuda:\n",
    "                epsilon_embeddings = epsilon_embeddings.cuda()\n",
    "        \n",
    "        \n",
    "        \n",
    "        \n",
    "        sigma_embeddings = torch.exp(log_var_embeddings/2)\n",
    "        \n",
    "        print(\"generated sigma_embeddings\",sigma_embeddings.shape)\n",
    "        print(\"generated log_var_embeddings\",log_var_embeddings.shape)\n",
    "        \n",
    "        print(\"epsilon_embeddings\",epsilon_embeddings.shape)\n",
    "        \n",
    "        #generate embeddings\n",
    "        embeddings = mu_embeddings + epsilon_embeddings * sigma_embeddings     \n",
    "        \n",
    "        outputs[\"embeddings\"] = embeddings\n",
    "        \n",
    "        print(\"generated embeddings\",embeddings.shape)\n",
    "        \n",
    "        \n",
    "        \n",
    "        for c in range(embeddings.shape[1]):\n",
    "            \n",
    "            \n",
    "            if c == 0:\n",
    "                inputs = torch.cat((embeddings[:,c,:],torch.zeros(batch_size,32,4)), 1)\n",
    "            else:\n",
    "                inputs = torch.cat((embeddings[:,c,:],twobar), 1)\n",
    "            \n",
    "            \n",
    "            \n",
    "            \n",
    "            twobar, hidden = self.decoders[c](inputs, (hdecoders,cdecoders))\n",
    "            \n",
    "    \n",
    "        \n",
    "        \n",
    "        \n",
    "        \n",
    "        \n",
    "        \n",
    "        \n",
    "        \n",
    "        \n",
    "        \n",
    "        \n",
    "      \n",
    "        \n",
    "        # The original digits are on the scale [0, 1]\n",
    "        x = torch.sigmoid(x)\n",
    "        \n",
    "        # Mean over samples\n",
    "        x_hat = torch.mean(x, dim=1)\n",
    "        \n",
    "        outputs[\"x_hat\"] = x_hat\n",
    "        outputs[\"z\"] = z\n",
    "        outputs[\"mu\"] = mu\n",
    "        outputs[\"log_var\"] = log_var\n",
    "        \n",
    "        return outputs\n",
    "\n",
    "\n",
    "\n",
    "\n",
    "net = VariationalAutoencoder(latent_features)\n",
    "\n",
    "# Transfer model to GPU if available\n",
    "if cuda:\n",
    "    net = net.cuda()\n",
    "\n",
    "print(net)"
   ]
  },
  {
   "cell_type": "markdown",
   "metadata": {
    "colab_type": "text",
    "id": "zUoxLXafiv1n"
   },
   "source": [
    "Optimizer"
   ]
  },
  {
   "cell_type": "code",
   "execution_count": 171,
   "metadata": {
    "colab": {},
    "colab_type": "code",
    "id": "uEjjddpwdFZH"
   },
   "outputs": [],
   "source": [
    "#directly taken from notebook, probably some adaptation might be needed\n",
    "\n",
    "from torch.nn.functional import binary_cross_entropy\n",
    "from torch import optim\n",
    "\n",
    "\n",
    "\n",
    "def ELBO_loss(y, t, mu, log_var):\n",
    "    # Reconstruction error, log[p(x|z)]\n",
    "    # Sum over features\n",
    "    likelihood = -binary_cross_entropy(y, t, reduction=\"none\")\n",
    "    likelihood = likelihood.view(likelihood.size(0), -1).sum(1)\n",
    "\n",
    "    # Regularization error: \n",
    "    # Kulback-Leibler divergence between approximate posterior, q(z|x)\n",
    "    # and prior p(z) = N(z | mu, sigma*I).\n",
    "    \n",
    "    # In the case of the KL-divergence between diagonal covariance Gaussian and \n",
    "    # a standard Gaussian, an analytic solution exists. Using this excerts a lower\n",
    "    # variance estimator of KL(q||p)\n",
    "    kl = -0.5 * torch.sum(1 + log_var - mu**2 - torch.exp(log_var), dim=1)\n",
    "\n",
    "    # Combining the two terms in the evidence lower bound objective (ELBO) \n",
    "    # mean over batch\n",
    "    ELBO = torch.mean(likelihood) - torch.mean(kl)\n",
    "    \n",
    "    # notice minus sign as we want to maximise ELBO\n",
    "    return -ELBO, kl.sum()\n",
    "\n",
    "\n",
    "\n",
    "# define our optimizer\n",
    "# The Adam optimizer works really well with VAEs.\n",
    "optimizer = optim.Adam(net.parameters(), lr=0.001)\n",
    "loss_function = ELBO_loss"
   ]
  },
  {
   "cell_type": "markdown",
   "metadata": {
    "colab_type": "text",
    "id": "Sb4f2WjmGAfx"
   },
   "source": [
    "Testing if forward pass works"
   ]
  },
  {
   "cell_type": "code",
   "execution_count": 172,
   "metadata": {
    "colab": {
     "base_uri": "https://localhost:8080/",
     "height": 1007
    },
    "colab_type": "code",
    "id": "mlCBcLJ-GCeN",
    "outputId": "2ea353bc-0884-4a78-8e89-44cf52587026"
   },
   "outputs": [
    {
     "name": "stdout",
     "output_type": "stream",
     "text": [
      "INPUT SIZE torch.Size([1, 512, 4])\n",
      "after rnn SIZE torch.Size([1, 512, 4096])\n",
      "after linear torch.Size([1, 512, 1024])\n",
      "MU SIZE torch.Size([1, 512, 512])\n",
      "LOG SIZE torch.Size([1, 512, 512])\n",
      "epsilon torch.Size([1, 1, 512])\n",
      "ready to make latent space torch.Size([1, 512, 512])\n",
      "z space generated torch.Size([1, 512, 512])\n",
      "conductor torch.Size([1, 512, 1024])\n",
      "conductor after lin torch.Size([1, 32, 1024])\n",
      "generated sigma_embeddings torch.Size([1, 16, 1024])\n",
      "generated log_var_embeddings torch.Size([1, 16, 1024])\n",
      "epsilon_embeddings torch.Size([1, 1, 1024])\n",
      "generated embeddings torch.Size([1, 16, 1024])\n"
     ]
    },
    {
     "ename": "UnboundLocalError",
     "evalue": "local variable 'counter' referenced before assignment",
     "output_type": "error",
     "traceback": [
      "\u001b[1;31m---------------------------------------------------------------------------\u001b[0m",
      "\u001b[1;31mUnboundLocalError\u001b[0m                         Traceback (most recent call last)",
      "\u001b[1;32m<ipython-input-172-28ac217e9e86>\u001b[0m in \u001b[0;36m<module>\u001b[1;34m()\u001b[0m\n\u001b[0;32m     16\u001b[0m \u001b[1;33m\u001b[0m\u001b[0m\n\u001b[0;32m     17\u001b[0m \u001b[1;31m#running forward pass\u001b[0m\u001b[1;33m\u001b[0m\u001b[1;33m\u001b[0m\u001b[0m\n\u001b[1;32m---> 18\u001b[1;33m \u001b[0moutputs\u001b[0m \u001b[1;33m=\u001b[0m \u001b[0mnet\u001b[0m\u001b[1;33m(\u001b[0m\u001b[0mx\u001b[0m\u001b[1;33m)\u001b[0m\u001b[1;33m\u001b[0m\u001b[0m\n\u001b[0m\u001b[0;32m     19\u001b[0m \u001b[1;33m\u001b[0m\u001b[0m\n\u001b[0;32m     20\u001b[0m \u001b[1;33m\u001b[0m\u001b[0m\n",
      "\u001b[1;32mD:\\Users\\Ramiro\\Anaconda3\\lib\\site-packages\\torch\\nn\\modules\\module.py\u001b[0m in \u001b[0;36m__call__\u001b[1;34m(self, *input, **kwargs)\u001b[0m\n\u001b[0;32m    475\u001b[0m             \u001b[0mresult\u001b[0m \u001b[1;33m=\u001b[0m \u001b[0mself\u001b[0m\u001b[1;33m.\u001b[0m\u001b[0m_slow_forward\u001b[0m\u001b[1;33m(\u001b[0m\u001b[1;33m*\u001b[0m\u001b[0minput\u001b[0m\u001b[1;33m,\u001b[0m \u001b[1;33m**\u001b[0m\u001b[0mkwargs\u001b[0m\u001b[1;33m)\u001b[0m\u001b[1;33m\u001b[0m\u001b[0m\n\u001b[0;32m    476\u001b[0m         \u001b[1;32melse\u001b[0m\u001b[1;33m:\u001b[0m\u001b[1;33m\u001b[0m\u001b[0m\n\u001b[1;32m--> 477\u001b[1;33m             \u001b[0mresult\u001b[0m \u001b[1;33m=\u001b[0m \u001b[0mself\u001b[0m\u001b[1;33m.\u001b[0m\u001b[0mforward\u001b[0m\u001b[1;33m(\u001b[0m\u001b[1;33m*\u001b[0m\u001b[0minput\u001b[0m\u001b[1;33m,\u001b[0m \u001b[1;33m**\u001b[0m\u001b[0mkwargs\u001b[0m\u001b[1;33m)\u001b[0m\u001b[1;33m\u001b[0m\u001b[0m\n\u001b[0m\u001b[0;32m    478\u001b[0m         \u001b[1;32mfor\u001b[0m \u001b[0mhook\u001b[0m \u001b[1;32min\u001b[0m \u001b[0mself\u001b[0m\u001b[1;33m.\u001b[0m\u001b[0m_forward_hooks\u001b[0m\u001b[1;33m.\u001b[0m\u001b[0mvalues\u001b[0m\u001b[1;33m(\u001b[0m\u001b[1;33m)\u001b[0m\u001b[1;33m:\u001b[0m\u001b[1;33m\u001b[0m\u001b[0m\n\u001b[0;32m    479\u001b[0m             \u001b[0mhook_result\u001b[0m \u001b[1;33m=\u001b[0m \u001b[0mhook\u001b[0m\u001b[1;33m(\u001b[0m\u001b[0mself\u001b[0m\u001b[1;33m,\u001b[0m \u001b[0minput\u001b[0m\u001b[1;33m,\u001b[0m \u001b[0mresult\u001b[0m\u001b[1;33m)\u001b[0m\u001b[1;33m\u001b[0m\u001b[0m\n",
      "\u001b[1;32m<ipython-input-170-2a5c0829f109>\u001b[0m in \u001b[0;36mforward\u001b[1;34m(self, x)\u001b[0m\n\u001b[0;32m    195\u001b[0m \u001b[1;33m\u001b[0m\u001b[0m\n\u001b[0;32m    196\u001b[0m         \u001b[1;32mfor\u001b[0m \u001b[0mc\u001b[0m \u001b[1;32min\u001b[0m \u001b[0mrange\u001b[0m\u001b[1;33m(\u001b[0m\u001b[0membeddings\u001b[0m\u001b[1;33m.\u001b[0m\u001b[0mshape\u001b[0m\u001b[1;33m[\u001b[0m\u001b[1;36m1\u001b[0m\u001b[1;33m]\u001b[0m\u001b[1;33m)\u001b[0m\u001b[1;33m:\u001b[0m\u001b[1;33m\u001b[0m\u001b[0m\n\u001b[1;32m--> 197\u001b[1;33m             \u001b[0mcounter\u001b[0m\u001b[1;33m=\u001b[0m\u001b[0mcounter\u001b[0m\u001b[1;33m+\u001b[0m\u001b[1;36m1\u001b[0m\u001b[1;33m\u001b[0m\u001b[0m\n\u001b[0m\u001b[0;32m    198\u001b[0m \u001b[1;33m\u001b[0m\u001b[0m\n\u001b[0;32m    199\u001b[0m \u001b[1;33m\u001b[0m\u001b[0m\n",
      "\u001b[1;31mUnboundLocalError\u001b[0m: local variable 'counter' referenced before assignment"
     ]
    }
   ],
   "source": [
    "from torch.autograd import Variable\n",
    "\n",
    "#setting dummy data\n",
    "x = data\n",
    "\n",
    "\n",
    "\n",
    "#setting input ans tensor variable\n",
    "x = Variable(torch.Tensor(x))\n",
    "\n",
    "if cuda:\n",
    "    x = x.cuda()\n",
    "    \n",
    "    \n",
    "\n",
    "#running forward pass\n",
    "outputs = net(x)\n",
    "\n",
    "\n",
    "#AFTER THIS NOTHING IS DONE YET ------\n",
    "x_hat = outputs[\"x_hat\"]\n",
    "mu, log_var = outputs[\"mu\"], outputs[\"log_var\"]\n",
    "z = outputs[\"z\"]\n",
    "\n",
    "loss, kl = loss_function(x_hat, x, mu, log_var)\n",
    "\n",
    "print(x.shape)\n",
    "print(x_hat.shape)\n",
    "print(z.shape)\n",
    "print(loss)\n",
    "\n",
    "\n",
    "\n",
    "                \n",
    "                \n",
    "        \n",
    "print(kl)"
   ]
  },
  {
   "cell_type": "code",
   "execution_count": 125,
   "metadata": {},
   "outputs": [
    {
     "data": {
      "text/plain": [
       "[LSTM(512, 1024, num_layers=2, batch_first=True),\n",
       " LSTM(512, 1024, num_layers=2, batch_first=True),\n",
       " LSTM(512, 1024, num_layers=2, batch_first=True),\n",
       " LSTM(512, 1024, num_layers=2, batch_first=True),\n",
       " LSTM(512, 1024, num_layers=2, batch_first=True),\n",
       " LSTM(512, 1024, num_layers=2, batch_first=True),\n",
       " LSTM(512, 1024, num_layers=2, batch_first=True),\n",
       " LSTM(512, 1024, num_layers=2, batch_first=True),\n",
       " LSTM(512, 1024, num_layers=2, batch_first=True),\n",
       " LSTM(512, 1024, num_layers=2, batch_first=True),\n",
       " LSTM(512, 1024, num_layers=2, batch_first=True),\n",
       " LSTM(512, 1024, num_layers=2, batch_first=True),\n",
       " LSTM(512, 1024, num_layers=2, batch_first=True),\n",
       " LSTM(512, 1024, num_layers=2, batch_first=True),\n",
       " LSTM(512, 1024, num_layers=2, batch_first=True),\n",
       " LSTM(512, 1024, num_layers=2, batch_first=True)]"
      ]
     },
     "execution_count": 125,
     "metadata": {},
     "output_type": "execute_result"
    }
   ],
   "source": [
    "net.decoders"
   ]
  },
  {
   "cell_type": "code",
   "execution_count": 126,
   "metadata": {},
   "outputs": [
    {
     "data": {
      "text/plain": [
       "torch.Size([1, 512, 512])"
      ]
     },
     "execution_count": 126,
     "metadata": {},
     "output_type": "execute_result"
    }
   ],
   "source": [
    "log_var.shape\n"
   ]
  },
  {
   "cell_type": "code",
   "execution_count": 128,
   "metadata": {},
   "outputs": [
    {
     "data": {
      "text/plain": [
       "torch.Size([1, 256, 1024])"
      ]
     },
     "execution_count": 128,
     "metadata": {},
     "output_type": "execute_result"
    }
   ],
   "source": [
    "outputs[\"embeddings\"].shape"
   ]
  },
  {
   "cell_type": "code",
   "execution_count": 143,
   "metadata": {},
   "outputs": [],
   "source": [
    " outputs[\"embeddings\"] =outputs[\"embeddings\"].permute(0, 2, 1)"
   ]
  },
  {
   "cell_type": "code",
   "execution_count": 144,
   "metadata": {},
   "outputs": [
    {
     "data": {
      "text/plain": [
       "torch.Size([1, 1024, 256])"
      ]
     },
     "execution_count": 144,
     "metadata": {},
     "output_type": "execute_result"
    }
   ],
   "source": [
    "outputs[\"embeddings\"].shape"
   ]
  },
  {
   "cell_type": "code",
   "execution_count": 151,
   "metadata": {},
   "outputs": [],
   "source": [
    "ola = outputs[\"embeddings\"]"
   ]
  },
  {
   "cell_type": "code",
   "execution_count": 153,
   "metadata": {},
   "outputs": [
    {
     "name": "stdout",
     "output_type": "stream",
     "text": [
      "[3 2 3 1 1 2 3 0 1 2 2 1 0 1 2 2 3 2 0 3 0 3 1 0 2 0 2 3 0 2 0 2 3 1 1 2 0\n",
      " 3 0 1 1 1 0 2 3 0 0 1 1 1 2 2 2 0 1 0 1 3 0 3 1 0 3 2 0 3 1 3 3 1 0 3 2 1\n",
      " 3 0 3 2 3 1 3 0 3 2 0 1 3 2 0 3 1 0 2 1 0 2 3 2 3 0 1 0 0 1 2 0 2 1 2 2 1\n",
      " 2 3 2 1 2 0 0 1 3 2 0 2 0 0 3 2 1 1 0 1 1 2 1 3 1 0 1 2 2 3 1 3 1 1 3 2 2\n",
      " 1 1 0 2 1 3 1 0 1 0 1 0 0 0 0 2 3 1 2 1 2 2 1 0 1 0 1 1 2 2 0 0 0 2 0 3 1\n",
      " 2 1 1 0 1 2 1 3 0 3 3 0 3 0 0 0 3 2 0 0 2 0 0 1 1 3 0 3 1 0 1 3 1 0 2 1 1\n",
      " 2 1 3 0 2 0 2 3 3 0 3 2 0 3 3 3 3 2 3 0 2 2 3 3 1 3 2 1 2 2 0 1 0 0 0 2 2\n",
      " 3 1 0 3 2 1 1 3 0 0 2 3 0 1 3 1 3 2 3 0 1 0 2 2 3 0 2 1 1 1 2 1 1 2 1 2 3\n",
      " 2 1 0 0 2 2 0 3 1 0 0 2 1 0 2 3 1 1 1 3 1 0 1 2 1 1 1 3 1 3 2 3 0 3 3 1 2\n",
      " 3 0 0 1 0 0 0 1 3 3 0 3 2 1 2 1 3 0 1 1 3 0 2 3 0 1 1 1 1 0 1 3 0 1 0 2 2\n",
      " 3 2 0 1 2 3 0 3 3 3 0 3 0 0 2 1 0 1 1 3 1 3 3 0 3 0 2 1 1 3 1 1 1 2 1 0 2\n",
      " 0 1 2 0 1 2 2 2 2 2 0 0 0 0 1 1 3 1 2 2 2 3 1 0 1 0 2 3 2 0 1 0 0 0 3 2 0\n",
      " 3 0 2 1 0 0 0 2 1 2 3 3 2 3 3 0 1 3 1 2 0 1 3 2 2 1 2 1 3 1 2 2 2 3 1 2 3\n",
      " 0 3 2 2 1 0 2 2 2 2 0 1 0 2 3 0 0 3 0 1 2 1 0 0 1 0 3 2 2 3 0]\n"
     ]
    },
    {
     "data": {
      "text/plain": [
       "(512, 4)"
      ]
     },
     "execution_count": 153,
     "metadata": {},
     "output_type": "execute_result"
    }
   ],
   "source": [
    "#Generating dummy data\n",
    "a= np.random.randint(NUM_PITCHES, size=TOTAL_NOTES)\n",
    "print(a)\n",
    "data = np.zeros((TOTAL_NOTES, NUM_PITCHES))\n",
    "data[np.arange(TOTAL_NOTES), a] = 1 #generating dummy data\n",
    "data.shape"
   ]
  },
  {
   "cell_type": "code",
   "execution_count": 181,
   "metadata": {},
   "outputs": [
    {
     "name": "stdout",
     "output_type": "stream",
     "text": [
      "0\n"
     ]
    }
   ],
   "source": [
    "ola = outputs[\"embeddings\"]\n",
    "\n",
    "counter=0\n",
    "\n",
    "    \n",
    "    \n",
    "    \n",
    "print(counter)\n"
   ]
  },
  {
   "cell_type": "code",
   "execution_count": 166,
   "metadata": {},
   "outputs": [
    {
     "data": {
      "text/plain": [
       "torch.Size([1, 16, 1024])"
      ]
     },
     "execution_count": 166,
     "metadata": {},
     "output_type": "execute_result"
    }
   ],
   "source": [
    "ola.shape"
   ]
  },
  {
   "cell_type": "code",
   "execution_count": 174,
   "metadata": {},
   "outputs": [
    {
     "ename": "RuntimeError",
     "evalue": "input.size(-1) must be equal to input_size. Expected 512, got 4",
     "output_type": "error",
     "traceback": [
      "\u001b[1;31m---------------------------------------------------------------------------\u001b[0m",
      "\u001b[1;31mRuntimeError\u001b[0m                              Traceback (most recent call last)",
      "\u001b[1;32m<ipython-input-174-c859631ce9c8>\u001b[0m in \u001b[0;36m<module>\u001b[1;34m()\u001b[0m\n\u001b[1;32m----> 1\u001b[1;33m \u001b[0mnet\u001b[0m\u001b[1;33m.\u001b[0m\u001b[0mdecoders\u001b[0m\u001b[1;33m[\u001b[0m\u001b[1;36m0\u001b[0m\u001b[1;33m]\u001b[0m\u001b[1;33m(\u001b[0m\u001b[0mx\u001b[0m\u001b[1;33m)\u001b[0m\u001b[1;33m\u001b[0m\u001b[0m\n\u001b[0m",
      "\u001b[1;32mD:\\Users\\Ramiro\\Anaconda3\\lib\\site-packages\\torch\\nn\\modules\\module.py\u001b[0m in \u001b[0;36m__call__\u001b[1;34m(self, *input, **kwargs)\u001b[0m\n\u001b[0;32m    475\u001b[0m             \u001b[0mresult\u001b[0m \u001b[1;33m=\u001b[0m \u001b[0mself\u001b[0m\u001b[1;33m.\u001b[0m\u001b[0m_slow_forward\u001b[0m\u001b[1;33m(\u001b[0m\u001b[1;33m*\u001b[0m\u001b[0minput\u001b[0m\u001b[1;33m,\u001b[0m \u001b[1;33m**\u001b[0m\u001b[0mkwargs\u001b[0m\u001b[1;33m)\u001b[0m\u001b[1;33m\u001b[0m\u001b[0m\n\u001b[0;32m    476\u001b[0m         \u001b[1;32melse\u001b[0m\u001b[1;33m:\u001b[0m\u001b[1;33m\u001b[0m\u001b[0m\n\u001b[1;32m--> 477\u001b[1;33m             \u001b[0mresult\u001b[0m \u001b[1;33m=\u001b[0m \u001b[0mself\u001b[0m\u001b[1;33m.\u001b[0m\u001b[0mforward\u001b[0m\u001b[1;33m(\u001b[0m\u001b[1;33m*\u001b[0m\u001b[0minput\u001b[0m\u001b[1;33m,\u001b[0m \u001b[1;33m**\u001b[0m\u001b[0mkwargs\u001b[0m\u001b[1;33m)\u001b[0m\u001b[1;33m\u001b[0m\u001b[0m\n\u001b[0m\u001b[0;32m    478\u001b[0m         \u001b[1;32mfor\u001b[0m \u001b[0mhook\u001b[0m \u001b[1;32min\u001b[0m \u001b[0mself\u001b[0m\u001b[1;33m.\u001b[0m\u001b[0m_forward_hooks\u001b[0m\u001b[1;33m.\u001b[0m\u001b[0mvalues\u001b[0m\u001b[1;33m(\u001b[0m\u001b[1;33m)\u001b[0m\u001b[1;33m:\u001b[0m\u001b[1;33m\u001b[0m\u001b[0m\n\u001b[0;32m    479\u001b[0m             \u001b[0mhook_result\u001b[0m \u001b[1;33m=\u001b[0m \u001b[0mhook\u001b[0m\u001b[1;33m(\u001b[0m\u001b[0mself\u001b[0m\u001b[1;33m,\u001b[0m \u001b[0minput\u001b[0m\u001b[1;33m,\u001b[0m \u001b[0mresult\u001b[0m\u001b[1;33m)\u001b[0m\u001b[1;33m\u001b[0m\u001b[0m\n",
      "\u001b[1;32mD:\\Users\\Ramiro\\Anaconda3\\lib\\site-packages\\torch\\nn\\modules\\rnn.py\u001b[0m in \u001b[0;36mforward\u001b[1;34m(self, input, hx)\u001b[0m\n\u001b[0;32m    176\u001b[0m             \u001b[0mflat_weight\u001b[0m \u001b[1;33m=\u001b[0m \u001b[1;32mNone\u001b[0m\u001b[1;33m\u001b[0m\u001b[0m\n\u001b[0;32m    177\u001b[0m \u001b[1;33m\u001b[0m\u001b[0m\n\u001b[1;32m--> 178\u001b[1;33m         \u001b[0mself\u001b[0m\u001b[1;33m.\u001b[0m\u001b[0mcheck_forward_args\u001b[0m\u001b[1;33m(\u001b[0m\u001b[0minput\u001b[0m\u001b[1;33m,\u001b[0m \u001b[0mhx\u001b[0m\u001b[1;33m,\u001b[0m \u001b[0mbatch_sizes\u001b[0m\u001b[1;33m)\u001b[0m\u001b[1;33m\u001b[0m\u001b[0m\n\u001b[0m\u001b[0;32m    179\u001b[0m         func = self._backend.RNN(\n\u001b[0;32m    180\u001b[0m             \u001b[0mself\u001b[0m\u001b[1;33m.\u001b[0m\u001b[0mmode\u001b[0m\u001b[1;33m,\u001b[0m\u001b[1;33m\u001b[0m\u001b[0m\n",
      "\u001b[1;32mD:\\Users\\Ramiro\\Anaconda3\\lib\\site-packages\\torch\\nn\\modules\\rnn.py\u001b[0m in \u001b[0;36mcheck_forward_args\u001b[1;34m(self, input, hidden, batch_sizes)\u001b[0m\n\u001b[0;32m    128\u001b[0m             raise RuntimeError(\n\u001b[0;32m    129\u001b[0m                 'input.size(-1) must be equal to input_size. Expected {}, got {}'.format(\n\u001b[1;32m--> 130\u001b[1;33m                     self.input_size, input.size(-1)))\n\u001b[0m\u001b[0;32m    131\u001b[0m \u001b[1;33m\u001b[0m\u001b[0m\n\u001b[0;32m    132\u001b[0m         \u001b[1;32mif\u001b[0m \u001b[0mis_input_packed\u001b[0m\u001b[1;33m:\u001b[0m\u001b[1;33m\u001b[0m\u001b[0m\n",
      "\u001b[1;31mRuntimeError\u001b[0m: input.size(-1) must be equal to input_size. Expected 512, got 4"
     ]
    }
   ],
   "source": [
    "        net.decoders[0](x)"
   ]
  },
  {
   "cell_type": "code",
   "execution_count": 191,
   "metadata": {},
   "outputs": [
    {
     "name": "stdout",
     "output_type": "stream",
     "text": [
      "tensor([[ 1.5360, -1.3293,  1.4544,  ..., -0.4645, -1.2291,  1.5313]],\n",
      "       device='cuda:0', grad_fn=<SelectBackward>)\n",
      "tensor([[ 1.4671, -1.5170,  1.2999,  ..., -0.7309, -1.1208,  1.5104]],\n",
      "       device='cuda:0', grad_fn=<SelectBackward>)\n",
      "tensor([[ 1.4940, -1.3939,  1.4040,  ..., -0.5393, -1.2497,  1.4870]],\n",
      "       device='cuda:0', grad_fn=<SelectBackward>)\n",
      "tensor([[ 1.4695, -1.4243,  1.2344,  ..., -0.6600, -1.0983,  1.5696]],\n",
      "       device='cuda:0', grad_fn=<SelectBackward>)\n",
      "tensor([[ 1.4490, -1.4882,  1.2845,  ..., -0.6755, -1.2087,  1.4911]],\n",
      "       device='cuda:0', grad_fn=<SelectBackward>)\n",
      "tensor([[ 1.4950, -1.4606,  1.4624,  ..., -0.5807, -1.2787,  1.4501]],\n",
      "       device='cuda:0', grad_fn=<SelectBackward>)\n",
      "tensor([[ 1.5577, -1.3363,  1.4332,  ..., -0.4884, -1.1859,  1.5721]],\n",
      "       device='cuda:0', grad_fn=<SelectBackward>)\n",
      "tensor([[ 1.5388, -1.4286,  1.4066,  ..., -0.5841, -1.2109,  1.5612]],\n",
      "       device='cuda:0', grad_fn=<SelectBackward>)\n",
      "tensor([[ 1.5366, -1.4085,  1.3322,  ..., -0.6215, -1.0857,  1.6083]],\n",
      "       device='cuda:0', grad_fn=<SelectBackward>)\n",
      "tensor([[ 1.5182, -1.4353,  1.2649,  ..., -0.6563, -1.1158,  1.6229]],\n",
      "       device='cuda:0', grad_fn=<SelectBackward>)\n",
      "tensor([[ 1.5550, -1.4310,  1.4353,  ..., -0.5988, -1.1447,  1.5642]],\n",
      "       device='cuda:0', grad_fn=<SelectBackward>)\n",
      "tensor([[ 1.4673, -1.4212,  1.4415,  ..., -0.5422, -1.3030,  1.4225]],\n",
      "       device='cuda:0', grad_fn=<SelectBackward>)\n",
      "tensor([[ 1.5425, -1.4341,  1.4020,  ..., -0.6089, -1.1383,  1.5645]],\n",
      "       device='cuda:0', grad_fn=<SelectBackward>)\n",
      "tensor([[ 1.5151, -1.4189,  1.4553,  ..., -0.5412, -1.2691,  1.4882]],\n",
      "       device='cuda:0', grad_fn=<SelectBackward>)\n",
      "tensor([[ 1.5083, -1.4001,  1.3975,  ..., -0.5576, -1.2126,  1.5205]],\n",
      "       device='cuda:0', grad_fn=<SelectBackward>)\n",
      "tensor([[ 1.5288, -1.4059,  1.3648,  ..., -0.6064, -1.0927,  1.5739]],\n",
      "       device='cuda:0', grad_fn=<SelectBackward>)\n",
      "16\n"
     ]
    }
   ],
   "source": [
    "counter=0\n",
    "\n",
    "for c in range(ola.shape[1]):\n",
    "            \n",
    "        print(ola[:,c,:])\n",
    "        counter=counter+1\n",
    "            \n",
    "print(counter)\n",
    "           "
   ]
  },
  {
   "cell_type": "code",
   "execution_count": 184,
   "metadata": {},
   "outputs": [
    {
     "ename": "IndexError",
     "evalue": "index 1 is out of bounds for dimension 0 with size 1",
     "output_type": "error",
     "traceback": [
      "\u001b[1;31m---------------------------------------------------------------------------\u001b[0m",
      "\u001b[1;31mIndexError\u001b[0m                                Traceback (most recent call last)",
      "\u001b[1;32m<ipython-input-184-41fe975c0a14>\u001b[0m in \u001b[0;36m<module>\u001b[1;34m()\u001b[0m\n\u001b[1;32m----> 1\u001b[1;33m \u001b[0mola\u001b[0m\u001b[1;33m[\u001b[0m\u001b[1;36m1\u001b[0m\u001b[1;33m]\u001b[0m\u001b[1;33m.\u001b[0m\u001b[0mshape\u001b[0m\u001b[1;33m\u001b[0m\u001b[0m\n\u001b[0m",
      "\u001b[1;31mIndexError\u001b[0m: index 1 is out of bounds for dimension 0 with size 1"
     ]
    }
   ],
   "source": [
    "ola[].shape\n"
   ]
  },
  {
   "cell_type": "code",
   "execution_count": 190,
   "metadata": {},
   "outputs": [
    {
     "data": {
      "text/plain": [
       "tensor([[ 1.4671, -1.5170,  1.2999,  ..., -0.7309, -1.1208,  1.5104]],\n",
       "       device='cuda:0', grad_fn=<SelectBackward>)"
      ]
     },
     "execution_count": 190,
     "metadata": {},
     "output_type": "execute_result"
    }
   ],
   "source": [
    "ola[:,1,:]"
   ]
  },
  {
   "cell_type": "code",
   "execution_count": 207,
   "metadata": {},
   "outputs": [
    {
     "data": {
      "text/plain": [
       "tensor([[[0., 0., 0., 0.],\n",
       "         [0., 0., 0., 0.],\n",
       "         [0., 0., 0., 0.],\n",
       "         [0., 0., 0., 0.]]])"
      ]
     },
     "execution_count": 207,
     "metadata": {},
     "output_type": "execute_result"
    }
   ],
   "source": [
    "\n",
    "\n",
    "torch.zeros(batch_size,4,4)"
   ]
  },
  {
   "cell_type": "code",
   "execution_count": null,
   "metadata": {},
   "outputs": [],
   "source": []
  }
 ],
 "metadata": {
  "colab": {
   "collapsed_sections": [],
   "name": "Untitled1.ipynb",
   "provenance": [],
   "version": "0.3.2"
  },
  "kernelspec": {
   "display_name": "Python 3",
   "language": "python",
   "name": "python3"
  },
  "language_info": {
   "codemirror_mode": {
    "name": "ipython",
    "version": 3
   },
   "file_extension": ".py",
   "mimetype": "text/x-python",
   "name": "python",
   "nbconvert_exporter": "python",
   "pygments_lexer": "ipython3",
   "version": "3.6.5"
  }
 },
 "nbformat": 4,
 "nbformat_minor": 1
}
