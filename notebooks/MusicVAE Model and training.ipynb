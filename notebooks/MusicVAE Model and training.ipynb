{
 "cells": [
  {
   "cell_type": "code",
   "execution_count": 1,
   "metadata": {
    "colab": {},
    "colab_type": "code",
    "id": "AzAJsTx5iY63"
   },
   "outputs": [
    {
     "name": "stdout",
     "output_type": "stream",
     "text": [
      "Requirement already satisfied: seaborn in /usr/local/lib/python3.6/site-packages\n",
      "Requirement already satisfied: pandas>=0.15.2 in /usr/local/lib/python3.6/site-packages (from seaborn)\n",
      "Requirement already satisfied: numpy>=1.9.3 in /usr/local/lib/python3.6/site-packages (from seaborn)\n",
      "Requirement already satisfied: matplotlib>=1.4.3 in /usr/local/lib/python3.6/site-packages (from seaborn)\n",
      "Requirement already satisfied: scipy>=0.14.0 in /usr/local/lib/python3.6/site-packages (from seaborn)\n",
      "Requirement already satisfied: python-dateutil>=2.5.0 in /usr/local/lib/python3.6/site-packages (from pandas>=0.15.2->seaborn)\n",
      "Requirement already satisfied: pytz>=2011k in /usr/local/lib/python3.6/site-packages (from pandas>=0.15.2->seaborn)\n",
      "Requirement already satisfied: cycler>=0.10 in /usr/local/lib/python3.6/site-packages (from matplotlib>=1.4.3->seaborn)\n",
      "Requirement already satisfied: pyparsing!=2.0.4,!=2.1.2,!=2.1.6,>=2.0.1 in /usr/local/lib/python3.6/site-packages (from matplotlib>=1.4.3->seaborn)\n",
      "Requirement already satisfied: six>=1.10 in /usr/local/lib/python3.6/site-packages (from matplotlib>=1.4.3->seaborn)\n",
      "Requirement already satisfied: kiwisolver>=1.0.1 in /usr/local/lib/python3.6/site-packages (from matplotlib>=1.4.3->seaborn)\n",
      "Requirement already satisfied: setuptools in /usr/local/lib/python3.6/site-packages (from kiwisolver>=1.0.1->matplotlib>=1.4.3->seaborn)\n",
      "\u001b[33mYou are using pip version 9.0.1, however version 18.1 is available.\n",
      "You should consider upgrading via the 'pip install --upgrade pip' command.\u001b[0m\n"
     ]
    }
   ],
   "source": [
    "# http://pytorch.org/\n",
    "from os.path import exists\n",
    "from wheel.pep425tags import get_abbr_impl, get_impl_ver, get_abi_tag\n",
    "platform = '{}{}-{}'.format(get_abbr_impl(), get_impl_ver(), get_abi_tag())\n",
    "cuda_output = !ldconfig -p|grep cudart.so|sed -e 's/.*\\.\\([0-9]*\\)\\.\\([0-9]*\\)$/cu\\1\\2/'\n",
    "accelerator = cuda_output[0] if exists('/dev/nvidia0') else 'cpu'\n",
    "\n",
    "!pip install -q http://download.pytorch.org/whl/{accelerator}/torch-0.4.1-{platform}-linux_x86_64.whl torchvision\n",
    "!pip install seaborn"
   ]
  },
  {
   "cell_type": "code",
   "execution_count": 2,
   "metadata": {
    "colab": {},
    "colab_type": "code",
    "id": "_jKJvXJNBa_a"
   },
   "outputs": [],
   "source": [
    "import torch\n",
    "\n",
    "cuda = torch.cuda.is_available()\n",
    "device = torch.device(\"cuda\" if torch.cuda.is_available() else \"cpu\")\n",
    "import numpy as np\n",
    "\n",
    "totalbars=32 #total bars as input\n",
    "NUM_PITCHES=4 # all possible notes to play\n",
    "\n",
    "\n",
    "NOTESPERBAR=16\n",
    "TOTAL_NOTES=NOTESPERBAR*totalbars\n",
    "\n",
    "num_features=NUM_PITCHES #size of input feature vector\n",
    "\n",
    "teacherforcing=False #not used but it will be needed\n"
   ]
  },
  {
   "cell_type": "code",
   "execution_count": 3,
   "metadata": {
    "colab": {
     "base_uri": "https://localhost:8080/",
     "height": 617
    },
    "colab_type": "code",
    "id": "6Am8YawCBqE1",
    "outputId": "bb27b32f-6a1e-4e45-de66-c74622ec3f68"
   },
   "outputs": [
    {
     "name": "stdout",
     "output_type": "stream",
     "text": [
      "[1 3 3 1 3 2 0 2 0 2 0 3 0 3 1 2 1 3 0 2 0 0 2 3 1 1 2 0 3 3 1 1 1 2 0 3 2\n",
      " 2 3 3 0 0 2 2 0 3 1 0 2 1 0 2 1 3 1 0 1 2 2 3 0 3 2 0 0 3 2 0 3 0 1 2 2 2\n",
      " 1 2 2 3 1 1 0 3 3 3 1 1 0 2 0 1 3 2 3 0 0 3 3 2 1 2 2 3 1 0 2 0 1 0 3 3 1\n",
      " 0 1 3 0 2 2 3 3 0 2 3 2 1 2 2 0 3 1 2 2 2 1 1 3 1 3 0 3 2 2 1 0 3 2 2 1 1\n",
      " 0 2 3 3 0 3 0 0 3 3 1 3 2 2 0 1 0 0 0 2 1 2 1 1 0 2 1 0 3 3 0 3 0 3 2 3 2\n",
      " 1 2 2 1 2 1 2 0 0 2 3 2 3 0 3 2 1 1 1 2 1 0 0 3 3 0 0 2 1 0 3 1 2 0 0 3 3\n",
      " 1 2 0 2 1 3 3 3 2 2 2 1 2 0 2 0 3 2 2 0 0 2 3 0 3 2 0 2 3 0 0 2 1 3 2 1 1\n",
      " 3 3 0 0 3 3 3 2 2 1 0 2 2 0 3 2 3 1 0 1 3 2 2 2 3 2 0 3 1 2 0 0 3 2 0 3 1\n",
      " 3 0 2 3 2 1 3 3 2 1 0 3 0 1 3 1 3 2 0 1 3 0 1 0 0 2 1 2 1 3 2 1 2 2 3 1 0\n",
      " 1 1 1 1 3 0 2 0 1 0 3 3 0 1 1 2 3 0 0 2 3 3 0 1 1 3 1 2 1 3 1 1 1 1 3 1 3\n",
      " 2 3 1 2 2 0 2 0 3 3 1 3 1 2 3 1 3 2 1 0 1 1 1 1 1 3 1 1 0 0 3 2 2 2 0 1 2\n",
      " 3 2 3 3 1 3 3 3 1 3 1 1 0 3 3 3 1 3 0 2 1 0 0 0 1 1 3 0 3 1 3 3 0 0 2 1 2\n",
      " 1 2 2 2 3 0 1 1 1 0 1 2 1 3 2 2 2 0 1 2 0 1 1 3 2 2 3 1 3 3 2 0 0 1 2 1 3\n",
      " 1 3 1 3 3 1 2 2 1 0 2 2 0 0 0 3 1 3 1 0 2 0 2 1 1 1 0 3 0 2 1]\n"
     ]
    },
    {
     "data": {
      "text/plain": [
       "(1, 512, 4)"
      ]
     },
     "execution_count": 3,
     "metadata": {},
     "output_type": "execute_result"
    }
   ],
   "source": [
    "\n",
    "\n",
    "\n",
    "#Generating dummy data\n",
    "a= np.random.randint(NUM_PITCHES, size=TOTAL_NOTES)\n",
    "print(a)\n",
    "data = np.zeros((TOTAL_NOTES, NUM_PITCHES))\n",
    "data[np.arange(TOTAL_NOTES), a] = 1 #generating dummy data\n",
    "\n",
    "\n",
    "#adding 1 dimension, 1x32x4\n",
    "data = data[np.newaxis, :, :]\n",
    "\n",
    "data.shape"
   ]
  },
  {
   "cell_type": "code",
   "execution_count": 4,
   "metadata": {
    "colab": {},
    "colab_type": "code",
    "id": "PJxAx0yoExnU"
   },
   "outputs": [],
   "source": [
    "#half of this is not yet needed but maybe it will be to visualize the latent space\n",
    "import matplotlib.pyplot as plt\n",
    "from IPython.display import Image, display, clear_output\n",
    "import numpy as np\n",
    "from sklearn.decomposition import PCA\n",
    "%matplotlib nbagg\n",
    "%matplotlib inline\n",
    "import seaborn as sns\n",
    "sns.set_style(\"whitegrid\")\n",
    "sns.set_palette(sns.dark_palette(\"purple\"))"
   ]
  },
  {
   "cell_type": "markdown",
   "metadata": {
    "colab_type": "text",
    "id": "n1jGsBaPFNmy"
   },
   "source": [
    "MODEL:"
   ]
  },
  {
   "cell_type": "code",
   "execution_count": 5,
   "metadata": {
    "colab": {
     "base_uri": "https://localhost:8080/",
     "height": 126
    },
    "colab_type": "code",
    "id": "2ASED3VFFKoU",
    "outputId": "540ba87b-7ebd-4565-b6c0-0a3f8ad3ebb8"
   },
   "outputs": [
    {
     "name": "stdout",
     "output_type": "stream",
     "text": [
      "VariationalAutoencoder(\n",
      "  (encoder): LSTM(4, 2048, batch_first=True, bidirectional=True)\n",
      "  (encoderOut): Linear(in_features=4096, out_features=1024, bias=True)\n",
      "  (conductor): LSTM(512, 512)\n",
      "  (decoder): LSTM(1024, 512)\n",
      ")\n"
     ]
    }
   ],
   "source": [
    "import torch.nn as nn\n",
    "from torch.nn.functional import softplus\n",
    "\n",
    "# define size variables\n",
    "input_size = NUM_PITCHES\n",
    "\n",
    "enc_hidden_size=2048 #hidden size of encoder\n",
    "conductor_hidden_size=1024 #hidden size of decoder\n",
    "\n",
    "\n",
    "decoders_hidden_size=1024 #hidden size of decoder\n",
    "decoders_initial_size=512 #decoder input size\n",
    "\n",
    "n_embeddings=16\n",
    "\n",
    "n_layers_conductor=2\n",
    "n_layers_decoder=3\n",
    "\n",
    "latent_features=512 #latent space dimension\n",
    "\n",
    "sequence_length = 32\n",
    "\n",
    "\n",
    "\n",
    "class VariationalAutoencoder(nn.Module):\n",
    "    def __init__(self, latent_features):\n",
    "        super(VariationalAutoencoder, self).__init__()\n",
    "        \n",
    "        self.latent_features = latent_features\n",
    "       \n",
    "        \n",
    "        \n",
    "        #data goes into bidirectional encoder\n",
    "        self.encoder = torch.nn.LSTM(\n",
    "                batch_first = True,\n",
    "                input_size = input_size,\n",
    "                hidden_size = enc_hidden_size,\n",
    "                num_layers = 1,\n",
    "                bidirectional = True)\n",
    "        \n",
    "        #encoded data goes onto connect linear layer. inputs must be*2 because LSTM is bidirectional\n",
    "        #output must be 2*latentspace because it needs to be split into miu and sigma right after.\n",
    "        self.encoderOut = nn.Linear(in_features=enc_hidden_size*2, out_features=latent_features*2)\n",
    "        \n",
    "        \n",
    "        #self.decoderIn = nn.Linear(in_features=latent_features, out_features=conductor_initial_size)\n",
    "        \n",
    "        # The latent code must be decoded into the original image\n",
    "#         self.conductor = torch.nn.LSTM(\n",
    "#                 batch_first=True,\n",
    "#                 input_size=self.latent_features,\n",
    "#                 hidden_size=conductor_hidden_size,\n",
    "#                 num_layers=2,\n",
    "#                 bidirectional = False)\n",
    "                \n",
    "        #Linear layer after leaving condunctor\n",
    "#         self.conductorout = nn.Linear(in_features=TOTAL_NOTES, out_features=2*n_embeddings)    \n",
    "        \n",
    "        \n",
    "        # The latent code must be decoded into the original structure\n",
    "#         self.decoders = [torch.nn.LSTM(\n",
    "#                 batch_first=True,\n",
    "#                 input_size=decoders_initial_size,\n",
    "#                 hidden_size=decoders_hidden_size,\n",
    "#                 num_layers=2,\n",
    "#                 bidirectional = False)] * n_embeddings\n",
    "\n",
    "        # Define the conductor and note decoder\n",
    "        self.conductor = nn.LSTM(decoders_initial_size, decoders_initial_size, num_layers=1)\n",
    "        self.decoder = nn.LSTM(2*decoders_initial_size, decoders_initial_size, num_layers=1)\n",
    "\n",
    "        \n",
    "    #used to initialize the hidden layer of the encoder to zero before every batch\n",
    "    def init_hidden(self, batch_size):\n",
    "        #must be 2 x batch x hidden_size because its a bi-directional LSTM\n",
    "        init = torch.zeros(2, batch_size, enc_hidden_size, device=device)\n",
    "        c0 = torch.zeros(2, batch_size, enc_hidden_size, device=device)\n",
    "    \n",
    "        #2 because has 2 layers\n",
    "        init_conductor = torch.zeros(n_layers_conductor, batch_size, conductor_hidden_size, device=device)\n",
    "        c_condunctor = torch.zeros(n_layers_conductor, batch_size, conductor_hidden_size, device=device)\n",
    "    \n",
    "        #2 because has 2 layers\n",
    "        init_decoders = torch.zeros(n_layers_decoder, batch_size, decoders_hidden_size, device=device)\n",
    "        c_decoders= torch.zeros(n_layers_decoder, batch_size, decoders_hidden_size, device=device)\n",
    "        \n",
    "        \n",
    "        return init,c0,init_conductor,c_condunctor,init_decoders,c_decoders\n",
    "\n",
    "\n",
    "    def forward(self, x): \n",
    "        outputs = {}\n",
    "        \n",
    "        batch_size = x.size(0)\n",
    "        \n",
    "        print(\"Input size\",x.size())\n",
    "        \n",
    "        #creates hidden layer values\n",
    "        h0,c0,hconductor,cconductor,hdecoders,cdecoders = self.init_hidden(batch_size)\n",
    "        \n",
    "        #resets encoder at the beginning of every batch and gives it x\n",
    "        x, hidden = self.encoder(x, ( h0,c0))\n",
    "          \n",
    "        print(\"after enconder\",x.shape)\n",
    "        \n",
    "        #goes from 4096 to 1024\n",
    "        x = self.encoderOut(x)\n",
    "        \n",
    "        print(\"after encoder linear\",x.shape)\n",
    "        \n",
    "        \n",
    "        \n",
    "        # Split encoder outputs into a mean and variance vector \n",
    "        mu, log_var = torch.chunk(x, 2, dim=-1)\n",
    "                \n",
    "        # Make sure that the log variance is positive\n",
    "        log_var = softplus(log_var)\n",
    "               \n",
    "        # :- Reparametrisation trick\n",
    "        # a sample from N(mu, sigma) is mu + sigma * epsilon\n",
    "        # where epsilon ~ N(0, 1)\n",
    "                \n",
    "        # Don't propagate gradients through randomness\n",
    "        with torch.no_grad():\n",
    "            batch_size = mu.size(0)\n",
    "            epsilon = torch.randn(batch_size, 1, self.latent_features)\n",
    "            \n",
    "            if cuda:\n",
    "                epsilon = epsilon.cuda()\n",
    "        \n",
    "        #setting sigma\n",
    "        sigma = torch.exp(log_var*2)\n",
    "        \n",
    "        \n",
    "        #generate z - latent space\n",
    "        z = mu + epsilon * sigma\n",
    "        linear_z = nn.Linear(in_features=latent_features, out_features=32)\n",
    "        z = z.permute(0,2,1)\n",
    "        print('z after permutation', z.shape)\n",
    "        z = linear_z(z)\n",
    "        print('z after linear', z.shape)\n",
    "        z = z.permute(2,0,1)\n",
    "        print('z after 2nd permutation', z.shape)\n",
    "        \n",
    "        print(\"z space generated\",z.shape)\n",
    "        \n",
    "        \n",
    "        # Define the conductor and note decoder\n",
    "#         conductor = nn.LSTM(decoders_initial_size, decoders_initial_size)\n",
    "#         decoder = nn.LSTM(2*decoders_initial_size, decoders_initial_size)\n",
    "\n",
    "        # Linear note to note type (classes/pitches)\n",
    "        linear = nn.Linear(decoders_initial_size, NUM_PITCHES)\n",
    "\n",
    "        conductor_hidden = (torch.randn(1, batch_size, decoders_initial_size), torch.randn(1, batch_size, decoders_initial_size))\n",
    "        notes = []\n",
    "\n",
    "        # For the first timestep the note is the embedding\n",
    "        note = torch.zeros(batch_size, batch_size, decoders_initial_size)\n",
    "\n",
    "        # Go through each element in the latent sequence\n",
    "        for i in range(sequence_length):\n",
    "\n",
    "            # Generate an embedding vector\n",
    "            \n",
    "            embedding, conductor_hidden = self.conductor(z[i].view(1, 1, -1), conductor_hidden)    \n",
    "\n",
    "            # Reset the decoder state of each 16 bar sequence\n",
    "            decoder_hidden = (torch.randn(1, batch_size, decoders_initial_size), torch.randn(1, batch_size, decoders_initial_size))\n",
    "\n",
    "            for _ in range(16):\n",
    "                # Concat embedding with previous note\n",
    "                e = torch.cat([embedding, note], dim=-1)\n",
    "\n",
    "                # Generate a single note\n",
    "                note, decoder_hidden = self.decoder(e.view(1, 1, -1), decoder_hidden)\n",
    "\n",
    "                # The note vector must be a probability of the different note types, e.g. (C#, F, E)\n",
    "                notes.append(torch.softmax(linear(note.view(batch_size, -1)), dim=1))\n",
    "\n",
    "        notes = torch.cat(notes)\n",
    "\n",
    "        print('notes:', notes.shape)\n",
    "\n",
    "        \n",
    "        outputs[\"x_hat\"] = notes.unsqueeze(0)\n",
    "        outputs[\"z\"] = z\n",
    "        outputs[\"mu\"] = mu\n",
    "        outputs[\"log_var\"] = log_var\n",
    "        \n",
    "        return outputs\n",
    "\n",
    "\n",
    "\n",
    "\n",
    "net = VariationalAutoencoder(latent_features)\n",
    "\n",
    "# Transfer model to GPU if available\n",
    "if cuda:\n",
    "    net = net.cuda()\n",
    "\n",
    "print(net)"
   ]
  },
  {
   "cell_type": "markdown",
   "metadata": {
    "colab_type": "text",
    "id": "zUoxLXafiv1n"
   },
   "source": [
    "Optimizer"
   ]
  },
  {
   "cell_type": "code",
   "execution_count": 6,
   "metadata": {
    "colab": {},
    "colab_type": "code",
    "id": "uEjjddpwdFZH"
   },
   "outputs": [],
   "source": [
    "#directly taken from notebook, probably some adaptation might be needed\n",
    "\n",
    "from torch.nn.functional import binary_cross_entropy\n",
    "from torch import optim\n",
    "\n",
    "\n",
    "\n",
    "def ELBO_loss(y, t, mu, log_var):\n",
    "    # Reconstruction error, log[p(x|z)]\n",
    "    # Sum over features\n",
    "    likelihood = -binary_cross_entropy(y, t, reduction=\"none\")\n",
    "    likelihood = likelihood.view(likelihood.size(0), -1).sum(1)\n",
    "\n",
    "    # Regularization error: \n",
    "    # Kulback-Leibler divergence between approximate posterior, q(z|x)\n",
    "    # and prior p(z) = N(z | mu, sigma*I).\n",
    "    \n",
    "    # In the case of the KL-divergence between diagonal covariance Gaussian and \n",
    "    # a standard Gaussian, an analytic solution exists. Using this excerts a lower\n",
    "    # variance estimator of KL(q||p)\n",
    "    kl = -0.5 * torch.sum(1 + log_var - mu**2 - torch.exp(log_var), dim=1)\n",
    "\n",
    "    # Combining the two terms in the evidence lower bound objective (ELBO) \n",
    "    # mean over batch\n",
    "    ELBO = torch.mean(likelihood) - torch.mean(kl)\n",
    "    \n",
    "    # notice minus sign as we want to maximise ELBO\n",
    "    return -ELBO, kl.sum()\n",
    "\n",
    "\n",
    "\n",
    "# define our optimizer\n",
    "# The Adam optimizer works really well with VAEs.\n",
    "optimizer = optim.Adam(net.parameters(), lr=0.001)\n",
    "loss_function = ELBO_loss"
   ]
  },
  {
   "cell_type": "markdown",
   "metadata": {
    "colab_type": "text",
    "id": "Sb4f2WjmGAfx"
   },
   "source": [
    "Testing if forward pass works"
   ]
  },
  {
   "cell_type": "code",
   "execution_count": 7,
   "metadata": {
    "colab": {
     "base_uri": "https://localhost:8080/",
     "height": 1007
    },
    "colab_type": "code",
    "id": "mlCBcLJ-GCeN",
    "outputId": "2ea353bc-0884-4a78-8e89-44cf52587026"
   },
   "outputs": [
    {
     "name": "stdout",
     "output_type": "stream",
     "text": [
      "Input size torch.Size([1, 512, 4])\n",
      "after enconder torch.Size([1, 512, 4096])\n",
      "after encoder linear torch.Size([1, 512, 1024])\n",
      "z after permutation torch.Size([1, 512, 512])\n",
      "z after linear torch.Size([1, 512, 32])\n",
      "z after 2nd permutation torch.Size([32, 1, 512])\n",
      "z space generated torch.Size([32, 1, 512])\n",
      "notes: torch.Size([512, 4])\n",
      "torch.Size([1, 512, 4])\n",
      "torch.Size([1, 512, 4])\n",
      "torch.Size([32, 1, 512])\n",
      "tensor(1232.2911, grad_fn=<NegBackward>)\n",
      "tensor(40265.0625, grad_fn=<SumBackward0>)\n"
     ]
    }
   ],
   "source": [
    "from torch.autograd import Variable\n",
    "\n",
    "#setting dummy data\n",
    "x = data\n",
    "\n",
    "\n",
    "\n",
    "#setting input ans tensor variable\n",
    "x = Variable(torch.Tensor(x))\n",
    "\n",
    "if cuda:\n",
    "    x = x.cuda()\n",
    "    \n",
    "    \n",
    "\n",
    "#running forward pass\n",
    "outputs = net(x)\n",
    "\n",
    "\n",
    "#AFTER THIS NOTHING IS DONE YET ------\n",
    "x_hat = outputs[\"x_hat\"]\n",
    "mu, log_var = outputs[\"mu\"], outputs[\"log_var\"]\n",
    "z = outputs[\"z\"]\n",
    "\n",
    "loss, kl = loss_function(x_hat, x, mu, log_var)\n",
    "\n",
    "print(x.shape)\n",
    "print(x_hat.shape)\n",
    "print(z.shape)\n",
    "print(loss)\n",
    "print(kl)"
   ]
  },
  {
   "cell_type": "markdown",
   "metadata": {},
   "source": [
    "Plot network output:"
   ]
  },
  {
   "cell_type": "code",
   "execution_count": 8,
   "metadata": {},
   "outputs": [
    {
     "name": "stdout",
     "output_type": "stream",
     "text": [
      "0.27745962\n"
     ]
    },
    {
     "data": {
      "text/plain": [
       "<matplotlib.image.AxesImage at 0x7f99ea77efd0>"
      ]
     },
     "execution_count": 8,
     "metadata": {},
     "output_type": "execute_result"
    },
    {
     "data": {
      "image/png": "[encoded data removed]",
      "text/plain": [
       "<Figure size 432x288 with 1 Axes>"
      ]
     },
     "metadata": {},
     "output_type": "display_data"
    }
   ],
   "source": [
    "x_np = x_hat.detach().numpy()\n",
    "x_np = x_np.squeeze(0)\n",
    "# x_np.shape\n",
    "print(x_np[0][0])\n",
    "plt.imshow(x_np.T, aspect='auto', cmap='Greys',  interpolation='nearest')"
   ]
  },
  {
   "cell_type": "markdown",
   "metadata": {},
   "source": [
    "Plot original data:"
   ]
  },
  {
   "cell_type": "code",
   "execution_count": 9,
   "metadata": {},
   "outputs": [
    {
     "name": "stdout",
     "output_type": "stream",
     "text": [
      "0.0\n"
     ]
    },
    {
     "data": {
      "text/plain": [
       "<matplotlib.image.AxesImage at 0x7f99debd8550>"
      ]
     },
     "execution_count": 9,
     "metadata": {},
     "output_type": "execute_result"
    },
    {
     "data": {
      "image/png": "[encoded data removed]",
      "text/plain": [
       "<Figure size 432x288 with 1 Axes>"
      ]
     },
     "metadata": {},
     "output_type": "display_data"
    }
   ],
   "source": [
    "data_to_display = data.squeeze(0)\n",
    "# data_to_display.shape\n",
    "print(data_to_display[0][0])\n",
    "plt.imshow(data_to_display.T, aspect='auto')"
   ]
  },
  {
   "cell_type": "markdown",
   "metadata": {},
   "source": [
    "## TRAINING"
   ]
  },
  {
   "cell_type": "code",
   "execution_count": null,
   "metadata": {},
   "outputs": [],
   "source": [
    "import os\n",
    "\n",
    "num_epochs = 100\n",
    "tmp_img = \"tmp_vae_out.png\"\n",
    "show_sampling_points = False\n",
    "\n",
    "train_loss, valid_loss = [], []\n",
    "train_kl, valid_kl = [], []\n",
    "\n",
    "device = torch.device(\"cuda:0\" if cuda else \"cpu\")\n",
    "print(\"Using device:\", device)\n",
    "\n",
    "for epoch in range(num_epochs):\n",
    "    batch_loss, batch_kl = [], []\n",
    "    net.train()\n",
    "    \n",
    "    # Go through each batch in the training dataset using the loader\n",
    "    # Note that y is not necessarily known as it is here\n",
    "    for x, m in train_loader:\n",
    "        x = Variable(x)\n",
    "        \n",
    "        # This is an alternative way of putting\n",
    "        # a tensor on the GPU\n",
    "        x = x.to(device)\n",
    "        \n",
    "        outputs = net(x)\n",
    "        x_hat = outputs['x_hat']\n",
    "        mu, log_var = outputs['mu'], outputs['log_var']\n",
    "\n",
    "        elbo, kl = loss_function(x_hat, x, mu, log_var)\n",
    "        \n",
    "        optimizer.zero_grad()\n",
    "        elbo.backward()\n",
    "        optimizer.step()\n",
    "        \n",
    "        batch_loss.append(elbo.item())\n",
    "        batch_kl.append(kl.item())\n",
    "\n",
    "    train_loss.append(np.mean(batch_loss))\n",
    "    train_kl.append(np.mean(batch_kl))\n",
    "\n",
    "    # Evaluate, do not propagate gradients\n",
    "    with torch.no_grad():\n",
    "        net.eval()\n",
    "        \n",
    "        # Just load a single batch from the test loader\n",
    "        x, y = next(iter(test_loader))\n",
    "        x = Variable(x)\n",
    "        \n",
    "        x = x.to(device)\n",
    "        \n",
    "        outputs = net(x)\n",
    "        x_hat = outputs['x_hat']\n",
    "        mu, log_var = outputs['mu'], outputs['log_var']\n",
    "        z = outputs[\"z\"]\n",
    "\n",
    "        elbo, kl = loss_function(x_hat, x, mu, log_var)\n",
    "        \n",
    "        # We save the latent variable and reconstruction for later use\n",
    "        # we will need them on the CPU to plot\n",
    "        x = x.to(\"cpu\")\n",
    "        x_hat = x_hat.to(\"cpu\")\n",
    "        z = z.detach().to(\"cpu\").numpy()\n",
    "\n",
    "        valid_loss.append(elbo.item())\n",
    "        valid_kl.append(kl.item())"
   ]
  },
  {
   "cell_type": "code",
   "execution_count": null,
   "metadata": {},
   "outputs": [],
   "source": []
  }
 ],
 "metadata": {
  "colab": {
   "collapsed_sections": [],
   "name": "Untitled1.ipynb",
   "provenance": [],
   "version": "0.3.2"
  },
  "kernelspec": {
   "display_name": "Python 3",
   "language": "python",
   "name": "python3"
  },
  "language_info": {
   "codemirror_mode": {
    "name": "ipython",
    "version": 3
   },
   "file_extension": ".py",
   "mimetype": "text/x-python",
   "name": "python",
   "nbconvert_exporter": "python",
   "pygments_lexer": "ipython3",
   "version": "3.6.6"
  }
 },
 "nbformat": 4,
 "nbformat_minor": 1
}
