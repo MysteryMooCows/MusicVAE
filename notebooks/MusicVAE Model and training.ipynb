{
  "nbformat": 4,
  "nbformat_minor": 0,
  "metadata": {
    "colab": {
      "name": "Untitled1.ipynb",
      "version": "0.3.2",
      "provenance": [],
      "collapsed_sections": []
    },
    "kernelspec": {
      "name": "python3",
      "display_name": "Python 3"
    }
  },
  "cells": [
    {
      "metadata": {
        "id": "AzAJsTx5iY63",
        "colab_type": "code",
        "colab": {}
      },
      "cell_type": "code",
      "source": [
        "# http://pytorch.org/\n",
        "from os.path import exists\n",
        "from wheel.pep425tags import get_abbr_impl, get_impl_ver, get_abi_tag\n",
        "platform = '{}{}-{}'.format(get_abbr_impl(), get_impl_ver(), get_abi_tag())\n",
        "cuda_output = !ldconfig -p|grep cudart.so|sed -e 's/.*\\.\\([0-9]*\\)\\.\\([0-9]*\\)$/cu\\1\\2/'\n",
        "accelerator = cuda_output[0] if exists('/dev/nvidia0') else 'cpu'\n",
        "\n",
        "!pip install -q http://download.pytorch.org/whl/{accelerator}/torch-0.4.1-{platform}-linux_x86_64.whl torchvision"
      ],
      "execution_count": 0,
      "outputs": []
    },
    {
      "metadata": {
        "id": "_jKJvXJNBa_a",
        "colab_type": "code",
        "colab": {}
      },
      "cell_type": "code",
      "source": [
        "import torch\n",
        "\n",
        "cuda = torch.cuda.is_available()\n",
        "device = torch.device(\"cuda\" if torch.cuda.is_available() else \"cpu\")\n",
        "import numpy as np\n",
        "\n",
        "totalbars=2 #total bars as input\n",
        "NUM_PITCHES=4 # all possible notes to play\n",
        "\n",
        "\n",
        "NOTESPERBAR=16\n",
        "TOTAL_NOTES=NOTESPERBAR*totalbars\n",
        "\n",
        "num_features=NUM_PITCHES #size of input feature vector\n",
        "\n",
        "teacherforcing=False #not used but it will be needed\n"
      ],
      "execution_count": 0,
      "outputs": []
    },
    {
      "metadata": {
        "id": "6Am8YawCBqE1",
        "colab_type": "code",
        "colab": {
          "base_uri": "https://localhost:8080/",
          "height": 617
        },
        "outputId": "bb27b32f-6a1e-4e45-de66-c74622ec3f68"
      },
      "cell_type": "code",
      "source": [
        "\n",
        "#Generating dummy data\n",
        "a= np.random.randint(NUM_PITCHES, size=TOTAL_NOTES)\n",
        "print(a)\n",
        "data = np.zeros((TOTAL_NOTES, NUM_PITCHES))\n",
        "data[np.arange(TOTAL_NOTES), a] = 1 #generating dummy data\n",
        "data"
      ],
      "execution_count": 3,
      "outputs": [
        {
          "output_type": "stream",
          "text": [
            "[0 1 0 2 2 3 0 1 1 2 2 1 0 0 2 2 0 2 1 2 3 2 2 0 2 1 0 1 1 3 1 2]\n"
          ],
          "name": "stdout"
        },
        {
          "output_type": "execute_result",
          "data": {
            "text/plain": [
              "array([[1., 0., 0., 0.],\n",
              "       [0., 1., 0., 0.],\n",
              "       [1., 0., 0., 0.],\n",
              "       [0., 0., 1., 0.],\n",
              "       [0., 0., 1., 0.],\n",
              "       [0., 0., 0., 1.],\n",
              "       [1., 0., 0., 0.],\n",
              "       [0., 1., 0., 0.],\n",
              "       [0., 1., 0., 0.],\n",
              "       [0., 0., 1., 0.],\n",
              "       [0., 0., 1., 0.],\n",
              "       [0., 1., 0., 0.],\n",
              "       [1., 0., 0., 0.],\n",
              "       [1., 0., 0., 0.],\n",
              "       [0., 0., 1., 0.],\n",
              "       [0., 0., 1., 0.],\n",
              "       [1., 0., 0., 0.],\n",
              "       [0., 0., 1., 0.],\n",
              "       [0., 1., 0., 0.],\n",
              "       [0., 0., 1., 0.],\n",
              "       [0., 0., 0., 1.],\n",
              "       [0., 0., 1., 0.],\n",
              "       [0., 0., 1., 0.],\n",
              "       [1., 0., 0., 0.],\n",
              "       [0., 0., 1., 0.],\n",
              "       [0., 1., 0., 0.],\n",
              "       [1., 0., 0., 0.],\n",
              "       [0., 1., 0., 0.],\n",
              "       [0., 1., 0., 0.],\n",
              "       [0., 0., 0., 1.],\n",
              "       [0., 1., 0., 0.],\n",
              "       [0., 0., 1., 0.]])"
            ]
          },
          "metadata": {
            "tags": []
          },
          "execution_count": 3
        }
      ]
    },
    {
      "metadata": {
        "id": "PJxAx0yoExnU",
        "colab_type": "code",
        "colab": {}
      },
      "cell_type": "code",
      "source": [
        "#half of this is not yet needed but maybe it will be to visualize the latent space\n",
        "import matplotlib.pyplot as plt\n",
        "from IPython.display import Image, display, clear_output\n",
        "import numpy as np\n",
        "from sklearn.decomposition import PCA\n",
        "%matplotlib nbagg\n",
        "%matplotlib inline\n",
        "import seaborn as sns\n",
        "sns.set_style(\"whitegrid\")\n",
        "sns.set_palette(sns.dark_palette(\"purple\"))"
      ],
      "execution_count": 0,
      "outputs": []
    },
    {
      "metadata": {
        "id": "n1jGsBaPFNmy",
        "colab_type": "text"
      },
      "cell_type": "markdown",
      "source": [
        "MODEL:"
      ]
    },
    {
      "metadata": {
        "id": "2ASED3VFFKoU",
        "colab_type": "code",
        "colab": {
          "base_uri": "https://localhost:8080/",
          "height": 126
        },
        "outputId": "540ba87b-7ebd-4565-b6c0-0a3f8ad3ebb8"
      },
      "cell_type": "code",
      "source": [
        "import torch.nn as nn\n",
        "from torch.nn.functional import softplus\n",
        "\n",
        "# define size variables\n",
        "input_size = NUM_PITCHES\n",
        "\n",
        "enc_hidden_size=2048 #hidden size of encoder\n",
        "dec_hidden_size=2048 #hidden size of decoder\n",
        "latent_features=512 #latent space dimension\n",
        "\n",
        "\n",
        "\n",
        "class VariationalAutoencoder(nn.Module):\n",
        "    def __init__(self, latent_features):\n",
        "        super(VariationalAutoencoder, self).__init__()\n",
        "        \n",
        "        self.latent_features = latent_features\n",
        "       \n",
        "        \n",
        "        \n",
        "        #data goes into bidirectional encoder\n",
        "        self.encoder = torch.nn.LSTM(\n",
        "                batch_first = True,\n",
        "                input_size = input_size,\n",
        "                hidden_size = enc_hidden_size,\n",
        "                num_layers = 1,\n",
        "                bidirectional = True)\n",
        "        \n",
        "        #encoded data goes onto connect linear layer. inputs must be*2 because LSTM is bidirectional\n",
        "        #output must be 2*latentspace because it needs to be split into miu and sigma right after.\n",
        "        self.encoderOut = nn.Linear(in_features=enc_hidden_size*2, out_features=latent_features*2)\n",
        "        \n",
        "        \n",
        "        #Model after this line has not been tested -------------\n",
        "        self.decoderIn = nn.Linear(in_features=latent_features, out_features=dec_hidden_size)\n",
        "        \n",
        "        # The latent code must be decoded into the original image\n",
        "        self.decoder = torch.nn.LSTM(\n",
        "                batch_first=True,\n",
        "                input_size=input_size,\n",
        "                hidden_size=dec_hidden_size,\n",
        "                num_layers=3,\n",
        "                bidirectional = False)\n",
        "\n",
        "    #used to initialize the hidden layer of the encoder to zero before every batch\n",
        "    def init_hidden(self, batch_size):\n",
        "      #must be 2 x batch x hidden_size because its a bi-directional LSTM\n",
        "      init = torch.zeros(2, batch_size, enc_hidden_size, device=device)\n",
        "      c0 = torch.zeros(2, batch_size, enc_hidden_size, device=device)\n",
        "      return init,c0\n",
        "\n",
        "\n",
        "    def forward(self, x): \n",
        "        outputs = {}\n",
        "        \n",
        "        print(\"INPUT SIZE\",x.size())\n",
        "        \n",
        "        #creates hidden layer values\n",
        "        batch_size = x.shape[0]\n",
        "        h0,c0 = self.init_hidden(batch_size)\n",
        "        \n",
        "        #resets encoder at the beginning of every batch\n",
        "        x, hidden = self.encoder(x, ( h0,c0))\n",
        "          \n",
        "        print(\"after rnn SIZE\",x.shape)\n",
        "        \n",
        "        #goes from 4096 to 1024\n",
        "        x = self.encoderOut(x)\n",
        "        \n",
        "        print(\"after linear\",x.shape)\n",
        "        \n",
        "        # Split encoder outputs into a mean and variance vector\n",
        "        mu, log_var = torch.chunk(x, 2, dim=-1)\n",
        "        \n",
        "        print(\"MU SIZE\",mu.shape)\n",
        "        print(\"LOG SIZE\",log_var.shape)\n",
        "        \n",
        "        # Make sure that the log variance is positive\n",
        "        log_var = softplus(log_var)\n",
        "        \n",
        "        # :- Reparametrisation trick\n",
        "        # a sample from N(mu, sigma) is mu + sigma * epsilon\n",
        "        # where epsilon ~ N(0, 1)\n",
        "                \n",
        "        # Don't propagate gradients through randomness\n",
        "        with torch.no_grad():\n",
        "            batch_size = mu.size(0)\n",
        "            epsilon = torch.randn(batch_size, 1, self.latent_features)\n",
        "            \n",
        "            if cuda:\n",
        "                epsilon = epsilon.cuda()\n",
        "        \n",
        "        #setting sigma\n",
        "        sigma = torch.exp(log_var*2)\n",
        "        \n",
        "        \n",
        "        print(\"ready to make latent space\",sigma.shape)\n",
        "        \n",
        "        #generate z\n",
        "        z = mu + epsilon * sigma        \n",
        "        \n",
        "        \n",
        "        #NOT DONE AFTER THIS\n",
        "        \n",
        "        # Run through decoder\n",
        "        x = self.decoder(z)\n",
        "        \n",
        "        # The original digits are on the scale [0, 1]\n",
        "        x = torch.sigmoid(x)\n",
        "        \n",
        "        # Mean over samples\n",
        "        x_hat = torch.mean(x, dim=1)\n",
        "        \n",
        "        outputs[\"x_hat\"] = x_hat\n",
        "        outputs[\"z\"] = z\n",
        "        outputs[\"mu\"] = mu\n",
        "        outputs[\"log_var\"] = log_var\n",
        "        \n",
        "        return outputs\n",
        "\n",
        "\n",
        "\n",
        "\n",
        "net = VariationalAutoencoder(latent_features)\n",
        "\n",
        "# Transfer model to GPU if available\n",
        "if cuda:\n",
        "    net = net.cuda()\n",
        "\n",
        "print(net)"
      ],
      "execution_count": 7,
      "outputs": [
        {
          "output_type": "stream",
          "text": [
            "VariationalAutoencoder(\n",
            "  (encoder): LSTM(4, 2048, batch_first=True, bidirectional=True)\n",
            "  (encoderOut): Linear(in_features=4096, out_features=1024, bias=True)\n",
            "  (decoderIn): Linear(in_features=512, out_features=2048, bias=True)\n",
            "  (decoder): LSTM(4, 2048, num_layers=3, batch_first=True)\n",
            ")\n"
          ],
          "name": "stdout"
        }
      ]
    },
    {
      "metadata": {
        "id": "Sb4f2WjmGAfx",
        "colab_type": "text"
      },
      "cell_type": "markdown",
      "source": [
        "Testing if forward pass works"
      ]
    },
    {
      "metadata": {
        "id": "mlCBcLJ-GCeN",
        "colab_type": "code",
        "colab": {
          "base_uri": "https://localhost:8080/",
          "height": 1007
        },
        "outputId": "2ea353bc-0884-4a78-8e89-44cf52587026"
      },
      "cell_type": "code",
      "source": [
        "from torch.autograd import Variable\n",
        "\n",
        "#setting dummy data\n",
        "x = data\n",
        "\n",
        "#adding 1 dimension, 1x32x4\n",
        "y = x[np.newaxis, :, :]\n",
        "\n",
        "#setting input ans tensor variable\n",
        "x = Variable(torch.Tensor(y))\n",
        "\n",
        "if cuda:\n",
        "    x = x.cuda()\n",
        "\n",
        "#running forward pass\n",
        "outputs = net(x)\n",
        "\n",
        "\n",
        "#AFTER THIS NOTHING IS DONE YET ------\n",
        "x_hat = outputs[\"x_hat\"]\n",
        "mu, log_var = outputs[\"mu\"], outputs[\"log_var\"]\n",
        "z = outputs[\"z\"]\n",
        "\n",
        "loss, kl = loss_function(x_hat, x, mu, log_var)\n",
        "\n",
        "print(x.shape)\n",
        "print(x_hat.shape)\n",
        "print(z.shape)\n",
        "print(loss)\n",
        "\n",
        "\n",
        "\n",
        "                \n",
        "                \n",
        "print(kl)"
      ],
      "execution_count": 8,
      "outputs": [
        {
          "output_type": "stream",
          "text": [
            "INPUT SIZE torch.Size([1, 32, 4])\n",
            "after rnn SIZE torch.Size([1, 32, 4096])\n",
            "latentspace 512\n",
            "after linear torch.Size([1, 32, 1024])\n",
            "MU SIZE torch.Size([1, 32, 512])\n",
            "LOG SIZE torch.Size([1, 32, 512])\n",
            "ready to make torch.Size([1, 32, 512])\n"
          ],
          "name": "stdout"
        },
        {
          "output_type": "error",
          "ename": "RuntimeError",
          "evalue": "ignored",
          "traceback": [
            "\u001b[0;31m---------------------------------------------------------------------------\u001b[0m",
            "\u001b[0;31mRuntimeError\u001b[0m                              Traceback (most recent call last)",
            "\u001b[0;32m<ipython-input-8-82fbdbfef0c5>\u001b[0m in \u001b[0;36m<module>\u001b[0;34m()\u001b[0m\n\u001b[1;32m     14\u001b[0m     \u001b[0mx\u001b[0m \u001b[0;34m=\u001b[0m \u001b[0mx\u001b[0m\u001b[0;34m.\u001b[0m\u001b[0mcuda\u001b[0m\u001b[0;34m(\u001b[0m\u001b[0;34m)\u001b[0m\u001b[0;34m\u001b[0m\u001b[0m\n\u001b[1;32m     15\u001b[0m \u001b[0;34m\u001b[0m\u001b[0m\n\u001b[0;32m---> 16\u001b[0;31m \u001b[0moutputs\u001b[0m \u001b[0;34m=\u001b[0m \u001b[0mnet\u001b[0m\u001b[0;34m(\u001b[0m\u001b[0mx\u001b[0m\u001b[0;34m)\u001b[0m\u001b[0;34m\u001b[0m\u001b[0m\n\u001b[0m\u001b[1;32m     17\u001b[0m \u001b[0;34m\u001b[0m\u001b[0m\n\u001b[1;32m     18\u001b[0m \u001b[0mx_hat\u001b[0m \u001b[0;34m=\u001b[0m \u001b[0moutputs\u001b[0m\u001b[0;34m[\u001b[0m\u001b[0;34m\"x_hat\"\u001b[0m\u001b[0;34m]\u001b[0m\u001b[0;34m\u001b[0m\u001b[0m\n",
            "\u001b[0;32m/usr/local/lib/python3.6/dist-packages/torch/nn/modules/module.py\u001b[0m in \u001b[0;36m__call__\u001b[0;34m(self, *input, **kwargs)\u001b[0m\n\u001b[1;32m    475\u001b[0m             \u001b[0mresult\u001b[0m \u001b[0;34m=\u001b[0m \u001b[0mself\u001b[0m\u001b[0;34m.\u001b[0m\u001b[0m_slow_forward\u001b[0m\u001b[0;34m(\u001b[0m\u001b[0;34m*\u001b[0m\u001b[0minput\u001b[0m\u001b[0;34m,\u001b[0m \u001b[0;34m**\u001b[0m\u001b[0mkwargs\u001b[0m\u001b[0;34m)\u001b[0m\u001b[0;34m\u001b[0m\u001b[0m\n\u001b[1;32m    476\u001b[0m         \u001b[0;32melse\u001b[0m\u001b[0;34m:\u001b[0m\u001b[0;34m\u001b[0m\u001b[0m\n\u001b[0;32m--> 477\u001b[0;31m             \u001b[0mresult\u001b[0m \u001b[0;34m=\u001b[0m \u001b[0mself\u001b[0m\u001b[0;34m.\u001b[0m\u001b[0mforward\u001b[0m\u001b[0;34m(\u001b[0m\u001b[0;34m*\u001b[0m\u001b[0minput\u001b[0m\u001b[0;34m,\u001b[0m \u001b[0;34m**\u001b[0m\u001b[0mkwargs\u001b[0m\u001b[0;34m)\u001b[0m\u001b[0;34m\u001b[0m\u001b[0m\n\u001b[0m\u001b[1;32m    478\u001b[0m         \u001b[0;32mfor\u001b[0m \u001b[0mhook\u001b[0m \u001b[0;32min\u001b[0m \u001b[0mself\u001b[0m\u001b[0;34m.\u001b[0m\u001b[0m_forward_hooks\u001b[0m\u001b[0;34m.\u001b[0m\u001b[0mvalues\u001b[0m\u001b[0;34m(\u001b[0m\u001b[0;34m)\u001b[0m\u001b[0;34m:\u001b[0m\u001b[0;34m\u001b[0m\u001b[0m\n\u001b[1;32m    479\u001b[0m             \u001b[0mhook_result\u001b[0m \u001b[0;34m=\u001b[0m \u001b[0mhook\u001b[0m\u001b[0;34m(\u001b[0m\u001b[0mself\u001b[0m\u001b[0;34m,\u001b[0m \u001b[0minput\u001b[0m\u001b[0;34m,\u001b[0m \u001b[0mresult\u001b[0m\u001b[0;34m)\u001b[0m\u001b[0;34m\u001b[0m\u001b[0m\n",
            "\u001b[0;32m<ipython-input-7-baa6854fd588>\u001b[0m in \u001b[0;36mforward\u001b[0;34m(self, x)\u001b[0m\n\u001b[1;32m     99\u001b[0m \u001b[0;34m\u001b[0m\u001b[0m\n\u001b[1;32m    100\u001b[0m         \u001b[0;31m# Run through decoder\u001b[0m\u001b[0;34m\u001b[0m\u001b[0;34m\u001b[0m\u001b[0m\n\u001b[0;32m--> 101\u001b[0;31m         \u001b[0mx\u001b[0m \u001b[0;34m=\u001b[0m \u001b[0mself\u001b[0m\u001b[0;34m.\u001b[0m\u001b[0mdecoder\u001b[0m\u001b[0;34m(\u001b[0m\u001b[0mz\u001b[0m\u001b[0;34m)\u001b[0m\u001b[0;34m\u001b[0m\u001b[0m\n\u001b[0m\u001b[1;32m    102\u001b[0m \u001b[0;34m\u001b[0m\u001b[0m\n\u001b[1;32m    103\u001b[0m         \u001b[0;31m# The original digits are on the scale [0, 1]\u001b[0m\u001b[0;34m\u001b[0m\u001b[0;34m\u001b[0m\u001b[0m\n",
            "\u001b[0;32m/usr/local/lib/python3.6/dist-packages/torch/nn/modules/module.py\u001b[0m in \u001b[0;36m__call__\u001b[0;34m(self, *input, **kwargs)\u001b[0m\n\u001b[1;32m    475\u001b[0m             \u001b[0mresult\u001b[0m \u001b[0;34m=\u001b[0m \u001b[0mself\u001b[0m\u001b[0;34m.\u001b[0m\u001b[0m_slow_forward\u001b[0m\u001b[0;34m(\u001b[0m\u001b[0;34m*\u001b[0m\u001b[0minput\u001b[0m\u001b[0;34m,\u001b[0m \u001b[0;34m**\u001b[0m\u001b[0mkwargs\u001b[0m\u001b[0;34m)\u001b[0m\u001b[0;34m\u001b[0m\u001b[0m\n\u001b[1;32m    476\u001b[0m         \u001b[0;32melse\u001b[0m\u001b[0;34m:\u001b[0m\u001b[0;34m\u001b[0m\u001b[0m\n\u001b[0;32m--> 477\u001b[0;31m             \u001b[0mresult\u001b[0m \u001b[0;34m=\u001b[0m \u001b[0mself\u001b[0m\u001b[0;34m.\u001b[0m\u001b[0mforward\u001b[0m\u001b[0;34m(\u001b[0m\u001b[0;34m*\u001b[0m\u001b[0minput\u001b[0m\u001b[0;34m,\u001b[0m \u001b[0;34m**\u001b[0m\u001b[0mkwargs\u001b[0m\u001b[0;34m)\u001b[0m\u001b[0;34m\u001b[0m\u001b[0m\n\u001b[0m\u001b[1;32m    478\u001b[0m         \u001b[0;32mfor\u001b[0m \u001b[0mhook\u001b[0m \u001b[0;32min\u001b[0m \u001b[0mself\u001b[0m\u001b[0;34m.\u001b[0m\u001b[0m_forward_hooks\u001b[0m\u001b[0;34m.\u001b[0m\u001b[0mvalues\u001b[0m\u001b[0;34m(\u001b[0m\u001b[0;34m)\u001b[0m\u001b[0;34m:\u001b[0m\u001b[0;34m\u001b[0m\u001b[0m\n\u001b[1;32m    479\u001b[0m             \u001b[0mhook_result\u001b[0m \u001b[0;34m=\u001b[0m \u001b[0mhook\u001b[0m\u001b[0;34m(\u001b[0m\u001b[0mself\u001b[0m\u001b[0;34m,\u001b[0m \u001b[0minput\u001b[0m\u001b[0;34m,\u001b[0m \u001b[0mresult\u001b[0m\u001b[0;34m)\u001b[0m\u001b[0;34m\u001b[0m\u001b[0m\n",
            "\u001b[0;32m/usr/local/lib/python3.6/dist-packages/torch/nn/modules/rnn.py\u001b[0m in \u001b[0;36mforward\u001b[0;34m(self, input, hx)\u001b[0m\n\u001b[1;32m    176\u001b[0m             \u001b[0mflat_weight\u001b[0m \u001b[0;34m=\u001b[0m \u001b[0;32mNone\u001b[0m\u001b[0;34m\u001b[0m\u001b[0m\n\u001b[1;32m    177\u001b[0m \u001b[0;34m\u001b[0m\u001b[0m\n\u001b[0;32m--> 178\u001b[0;31m         \u001b[0mself\u001b[0m\u001b[0;34m.\u001b[0m\u001b[0mcheck_forward_args\u001b[0m\u001b[0;34m(\u001b[0m\u001b[0minput\u001b[0m\u001b[0;34m,\u001b[0m \u001b[0mhx\u001b[0m\u001b[0;34m,\u001b[0m \u001b[0mbatch_sizes\u001b[0m\u001b[0;34m)\u001b[0m\u001b[0;34m\u001b[0m\u001b[0m\n\u001b[0m\u001b[1;32m    179\u001b[0m         func = self._backend.RNN(\n\u001b[1;32m    180\u001b[0m             \u001b[0mself\u001b[0m\u001b[0;34m.\u001b[0m\u001b[0mmode\u001b[0m\u001b[0;34m,\u001b[0m\u001b[0;34m\u001b[0m\u001b[0m\n",
            "\u001b[0;32m/usr/local/lib/python3.6/dist-packages/torch/nn/modules/rnn.py\u001b[0m in \u001b[0;36mcheck_forward_args\u001b[0;34m(self, input, hidden, batch_sizes)\u001b[0m\n\u001b[1;32m    128\u001b[0m             raise RuntimeError(\n\u001b[1;32m    129\u001b[0m                 'input.size(-1) must be equal to input_size. Expected {}, got {}'.format(\n\u001b[0;32m--> 130\u001b[0;31m                     self.input_size, input.size(-1)))\n\u001b[0m\u001b[1;32m    131\u001b[0m \u001b[0;34m\u001b[0m\u001b[0m\n\u001b[1;32m    132\u001b[0m         \u001b[0;32mif\u001b[0m \u001b[0mis_input_packed\u001b[0m\u001b[0;34m:\u001b[0m\u001b[0;34m\u001b[0m\u001b[0m\n",
            "\u001b[0;31mRuntimeError\u001b[0m: input.size(-1) must be equal to input_size. Expected 4, got 512"
          ]
        }
      ]
    },
    {
      "metadata": {
        "id": "zUoxLXafiv1n",
        "colab_type": "text"
      },
      "cell_type": "markdown",
      "source": [
        "Optimizer"
      ]
    },
    {
      "metadata": {
        "id": "uEjjddpwdFZH",
        "colab_type": "code",
        "colab": {}
      },
      "cell_type": "code",
      "source": [
        "#directly taken from notebook, probably some adaptation might be needed\n",
        "\n",
        "from torch.nn.functional import binary_cross_entropy\n",
        "from torch import optim\n",
        "\n",
        "def ELBO_loss(y, t, mu, log_var):\n",
        "    # Reconstruction error, log[p(x|z)]\n",
        "    # Sum over features\n",
        "    likelihood = -binary_cross_entropy(y, t, reduction=\"none\")\n",
        "    likelihood = likelihood.view(likelihood.size(0), -1).sum(1)\n",
        "\n",
        "    # Regularization error: \n",
        "    # Kulback-Leibler divergence between approximate posterior, q(z|x)\n",
        "    # and prior p(z) = N(z | mu, sigma*I).\n",
        "    \n",
        "    # In the case of the KL-divergence between diagonal covariance Gaussian and \n",
        "    # a standard Gaussian, an analytic solution exists. Using this excerts a lower\n",
        "    # variance estimator of KL(q||p)\n",
        "    kl = -0.5 * torch.sum(1 + log_var - mu**2 - torch.exp(log_var), dim=1)\n",
        "\n",
        "    # Combining the two terms in the evidence lower bound objective (ELBO) \n",
        "    # mean over batch\n",
        "    ELBO = torch.mean(likelihood) - torch.mean(kl)\n",
        "    \n",
        "    # notice minus sign as we want to maximise ELBO\n",
        "    return -ELBO, kl.sum()\n",
        "\n",
        "\n",
        "# define our optimizer\n",
        "# The Adam optimizer works really well with VAEs.\n",
        "optimizer = optim.Adam(net.parameters(), lr=0.001)\n",
        "loss_function = ELBO_loss"
      ],
      "execution_count": 0,
      "outputs": []
    }
  ]
}