{
 "cells": [
  {
   "cell_type": "markdown",
   "metadata": {},
   "source": [
    "# Reconstructing a midi from an instrument in transposed piano roll form"
   ]
  },
  {
   "cell_type": "markdown",
   "metadata": {},
   "source": [
    "### Using the dataloader exclusively to generate a sample that looks like an output from the network for now"
   ]
  },
  {
   "cell_type": "code",
   "execution_count": null,
   "metadata": {},
   "outputs": [],
   "source": [
    "# Add the src folder to the path\n",
    "import numpy as np\n",
    "import pandas as pd\n",
    "import sys\n",
    "import pretty_midi\n",
    "sys.path.insert(0, '../src/')\n",
    "\n",
    "import matplotlib.pyplot as plt\n",
    "%matplotlib inline\n",
    "import librosa.display as display\n",
    "\n",
    "from data.dataloader import MidiDataset"
   ]
  },
  {
   "cell_type": "code",
   "execution_count": null,
   "metadata": {},
   "outputs": [],
   "source": [
    "midi_dataset = MidiDataset(csv_file='./piano_rolls.csv')"
   ]
  },
  {
   "cell_type": "code",
   "execution_count": null,
   "metadata": {},
   "outputs": [],
   "source": [
    "sample = midi_dataset.__getitem__(0)['piano_rolls']\n",
    "sample"
   ]
  },
  {
   "cell_type": "markdown",
   "metadata": {},
   "source": [
    "The samples I have locally aren't normalized to 1 for the note velocities, so I'm just doing that first"
   ]
  },
  {
   "cell_type": "code",
   "execution_count": null,
   "metadata": {},
   "outputs": [],
   "source": [
    "np.unique(sample)"
   ]
  },
  {
   "cell_type": "code",
   "execution_count": null,
   "metadata": {},
   "outputs": [],
   "source": [
    "sample = sample.clip(0,1)"
   ]
  },
  {
   "cell_type": "code",
   "execution_count": null,
   "metadata": {},
   "outputs": [],
   "source": [
    "np.unique(sample)"
   ]
  },
  {
   "cell_type": "markdown",
   "metadata": {},
   "source": [
    "Good. Now let's pretend this is a network output and try to convert this back into a MIDI file"
   ]
  },
  {
   "cell_type": "code",
   "execution_count": null,
   "metadata": {},
   "outputs": [],
   "source": [
    "sample"
   ]
  },
  {
   "cell_type": "code",
   "execution_count": null,
   "metadata": {},
   "outputs": [],
   "source": [
    "# Figure out a way to get this so it's in line with the columns of the preprocessed data\n",
    "column_names = [pretty_midi.note_number_to_name(n) for n in range(48,109)]\n",
    "piano_roll = pd.DataFrame(sample, columns=column_names)\n",
    "\n",
    "#piano_roll"
   ]
  },
  {
   "cell_type": "code",
   "execution_count": null,
   "metadata": {},
   "outputs": [],
   "source": [
    "def midi_from_piano_roll(pr, tempo = 120):\n",
    "    \"\"\"\n",
    "        We're taking some assumptions here to reconstruct the midi.\n",
    "    \"\"\"\n",
    "    program = 0\n",
    "    velocity = 42.\n",
    "    bps = tempo / 60\n",
    "    sps = bps * 4 # sixteenth notes per second\n",
    "    \n",
    "    # Create a PrettyMIDI object\n",
    "    piano_midi = pretty_midi.PrettyMIDI()\n",
    "\n",
    "    piano = pretty_midi.Instrument(program=program)\n",
    "    # Iterate over note names, which will be converted to note number later\n",
    "    for idx in pr.index:\n",
    "        for note_name in pr.columns:\n",
    "            #print(note_name)\n",
    "\n",
    "            # Check if the note is activated at this timestep\n",
    "            if pr.iloc[idx][note_name] == 1.:\n",
    "                # Retrieve the MIDI note number for this note name\n",
    "                note_number = pretty_midi.note_name_to_number(note_name)\n",
    "                \n",
    "                note_start = idx/sps # 0 if tempo = 60\n",
    "                note_end = (idx+1)/sps # 0.25\n",
    "\n",
    "                # Create a Note instance, starting according to the timestep * 16ths, ending one sixteenth later\n",
    "                note = pretty_midi.Note(\n",
    "                    velocity=velocity, pitch=note_number, start=note_start, end=note_end)\n",
    "                # Add it to our cello instrument\n",
    "                piano.notes.append(note)\n",
    "    # Add the cello instrument to the PrettyMIDI object\n",
    "    piano_midi.instruments.append(piano)\n",
    "    return piano_midi\n",
    "    # Write out the MIDI data\n",
    "    #piano_midi.write('cello-C-chord.mid')"
   ]
  },
  {
   "cell_type": "code",
   "execution_count": null,
   "metadata": {},
   "outputs": [],
   "source": [
    "midi = midi_from_piano_roll(piano_roll)"
   ]
  },
  {
   "cell_type": "code",
   "execution_count": null,
   "metadata": {},
   "outputs": [],
   "source": [
    "midi.get_piano_roll()"
   ]
  },
  {
   "cell_type": "code",
   "execution_count": null,
   "metadata": {},
   "outputs": [],
   "source": [
    "plt.figure(figsize=(10, 3))\n",
    "display.specshow(midi.get_piano_roll(), y_axis='cqt_note', cmap=plt.cm.hot)"
   ]
  },
  {
   "cell_type": "code",
   "execution_count": null,
   "metadata": {},
   "outputs": [],
   "source": []
  }
 ],
 "metadata": {
  "kernelspec": {
   "display_name": "Python 3",
   "language": "python",
   "name": "python3"
  },
  "language_info": {
   "codemirror_mode": {
    "name": "ipython",
    "version": 3
   },
   "file_extension": ".py",
   "mimetype": "text/x-python",
   "name": "python",
   "nbconvert_exporter": "python",
   "pygments_lexer": "ipython3",
   "version": "3.6.6"
  }
 },
 "nbformat": 4,
 "nbformat_minor": 2
}
