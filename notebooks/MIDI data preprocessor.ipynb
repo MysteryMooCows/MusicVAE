{
 "cells": [
  {
   "cell_type": "code",
   "execution_count": null,
   "metadata": {},
   "outputs": [],
   "source": [
    "import glob\n",
    "import os\n",
    "import pandas as pd\n",
    "\n",
    "import pretty_midi\n",
    "\n",
    "from IPython.display import clear_output"
   ]
  },
  {
   "cell_type": "markdown",
   "metadata": {},
   "source": [
    "# Simplifying the dataset\n",
    "\n",
    "[We've listed all the instruments present by count](/notebooks/notebooks/Load%20Instruments.ipynb) so we'll build on the work in that notebook, by loading the csv file it has produced.\n",
    "\n",
    "We will want to only focus on training melodies for one set for now, so it makes sense to pick an instrument (program code), that is present in large quantities, and is likely to have long melodies to train on.\n",
    "\n",
    "[See here](https://soundprogramming.net/file-formats/general-midi-instrument-list/) for a list of instrument programs and their names."
   ]
  },
  {
   "cell_type": "code",
   "execution_count": null,
   "metadata": {},
   "outputs": [],
   "source": [
    "instruments = pd.read_csv('instruments.csv', sep=';', index_col=0)\n",
    "instruments.head()"
   ]
  },
  {
   "cell_type": "markdown",
   "metadata": {},
   "source": [
    "## We'll focus on one of the most popular instruments\n",
    "\n",
    "Let's list the top used instruments below:\n",
    "\n",
    "You'll notice the name column has a large count. The name appears to be a free text field for description of the intention of this track in the MIDI file, the program is the instrument used.\n",
    "\n",
    "Because these midi files are created by humans, there's a risk that people will intend for a track to be a certain type, but have used a program they liked the sound of in their midi engine when creating the track. It is common for vocals to be coded as Strings, (52 Choir Aahs, 53 Voice Oohs), for instance. We're going to disregard this problem for now, and assume the program codes are accurate."
   ]
  },
  {
   "cell_type": "code",
   "execution_count": null,
   "metadata": {},
   "outputs": [],
   "source": [
    "# Show the instrument with the most unique filepath values\n",
    "grouped = instruments.groupby('program').nunique().sort_values('filepath', ascending=False)\n",
    "grouped.head(n=10)"
   ]
  },
  {
   "cell_type": "code",
   "execution_count": null,
   "metadata": {},
   "outputs": [],
   "source": [
    "# Translate the program codes to instrument names\n",
    "for program in grouped.head(n=10).index.values:\n",
    "    print(pretty_midi.program_to_instrument_name(int(program)))\n",
    "# "
   ]
  },
  {
   "cell_type": "markdown",
   "metadata": {},
   "source": [
    "The top instrument used is 0: Acoustic Grand Piano.\n",
    "\n",
    "It doesn't seem to be the most realiable program of them all (7281 different plaintext names compared to the next in line with 1588), so it does point towards this being used for a bunch of different stuff.\n",
    "We'll continue inspecting this."
   ]
  },
  {
   "cell_type": "code",
   "execution_count": null,
   "metadata": {},
   "outputs": [],
   "source": [
    "instruments[(instruments['program'] == 0)].head(n=10)"
   ]
  },
  {
   "cell_type": "markdown",
   "metadata": {},
   "source": [
    "Not exactly all pianos.\n",
    "Let's try to filter for names that contain the word \"piano\""
   ]
  },
  {
   "cell_type": "code",
   "execution_count": null,
   "metadata": {},
   "outputs": [],
   "source": [
    "pianos = instruments[(instruments['program'] == 0) & (instruments['name'].str.contains('piano', case=False))]\n",
    "print(len(pianos))\n",
    "pianos.head(n=10)"
   ]
  },
  {
   "cell_type": "markdown",
   "metadata": {},
   "source": [
    "Much better.\n",
    "\n",
    "But now we're reduced to 3183 files. It'll have to do for now."
   ]
  },
  {
   "cell_type": "markdown",
   "metadata": {},
   "source": [
    "# Loading all files for the instrument\n",
    "\n",
    "We'll iterate over our piano list and load all the midi files, get the piano rolls and save the result as a CSV for later consumption.\n",
    "\n",
    "This will take a few minutes, since parsing takes long in itself."
   ]
  },
  {
   "cell_type": "code",
   "execution_count": null,
   "metadata": {},
   "outputs": [],
   "source": [
    "note_columns = [pretty_midi.note_number_to_name(n) for n in range(0,128)]\n",
    "def encode_dummies(instrument, sampling_freq):\n",
    "    \"\"\" Gonna cheat a little bit by transposing the instrument piano roll. \n",
    "        However, that leaves us with a lot of blank space. \n",
    "    \"\"\"\n",
    "    return pd.DataFrame(instrument.get_piano_roll(fs=sampling_freq).astype('int').T, columns=note_columns)\n",
    "\n",
    "def trim_blanks(df):\n",
    "    \"\"\"\n",
    "        Remove the first period of no activity (fast forward to where the first note begins for this instrument)\n",
    "    \"\"\"\n",
    "    nonzero = df.apply(lambda s: s != 0)\n",
    "    nonzeroes = df[nonzero].apply(pd.Series.first_valid_index)\n",
    "    first_nonzero = nonzeroes.min()\n",
    "    if first_nonzero is pd.np.nan:\n",
    "        return None\n",
    "    return df.iloc[int(first_nonzero):]\n",
    "\n",
    "\"\"\"\n",
    "    Create a pandas to store the piano rolls in.\n",
    "    It'll look a bit like this:\n",
    "    \n",
    "    |   Index     | t | C0 |...| C10 |\n",
    "    |Song_name_3:0| 0 | 40 |...| 0   |\n",
    "    |             | 1 | 40 |...| 0   |\n",
    "    |             |...|... |...| ... |\n",
    "    |             | N | 40 |...| 0   |\n",
    "    |Song_name_3:1| 0 | 40 |...| 0   |\n",
    "    |             |...|... |...| ... |\n",
    "    |             | N | 40 |...| 0   |\n",
    "    |Song_name_4:0| 0 | 40 |...| 0   |\n",
    "    |             |...|... |...| ... |\n",
    "    |             | N | 40 |...| 0   |\n",
    "\n",
    "\"\"\"\n",
    "saved_columns = [pretty_midi.note_number_to_name(n) for n in range(48,109)]\n",
    "piano_rolls = pd.DataFrame(columns=['piano_roll_name', 'timestep'] + saved_columns)\n",
    "piano_rolls = piano_rolls.set_index(['piano_roll_name', 'timestep'])\n",
    "piano_rolls.head()"
   ]
  },
  {
   "cell_type": "markdown",
   "metadata": {},
   "source": [
    "# Parsing the data to csv\n",
    "\n",
    "The following step takes too long and is projected to take up roughly 30gb of space - so let's do some more splitting work on it (to reduce breaks between segments). Maybe consider cutting away large parts of the tonal range, such as only using songs where the instruments are between C4 and C8 or something.\n",
    "\n",
    "Alternatively, we can load in the files directly during training in a data loader, but I'd like to clean and split the songs beforehand so they're easier to train on.\n",
    "\n",
    "We could split all the songs into x-bar segments and save them as .mid files in a processed folder. Should take up less space and be easier."
   ]
  },
  {
   "cell_type": "code",
   "execution_count": null,
   "metadata": {},
   "outputs": [],
   "source": [
    "limit = 100\n",
    "\n",
    "file_name = 'piano_rolls.csv'\n",
    "piano_rolls.to_csv(file_name, sep=';', encoding='utf-8')\n",
    "\n",
    "# This might take a while...\n",
    "for i, file in enumerate(pianos['filepath'][:limit]):\n",
    "    clear_output(wait=True)\n",
    "    song_name = os.path.basename(file)\n",
    "    print(\"{}/{}: Loading and parsing {}.\".format(i, len(pianos), song_name))\n",
    "    try:\n",
    "        pm = pretty_midi.PrettyMIDI(file)\n",
    "        \n",
    "        \"\"\"\n",
    "            Here we calculate the amount of seconds per sixteenth note, by taking the second beat of the song \n",
    "            (which is the same as the difference in seconds between the first and second beat),\n",
    "            and convert it to the sampling frequency format that pretty_midi expects.\n",
    "        \"\"\"\n",
    "        sampling_freq = 1/ (pm.get_beats()[1]/4)\n",
    "    except:\n",
    "        # For now, just ignore files we can't load.\n",
    "        continue\n",
    "        \n",
    "    for j, instrument in enumerate(pm.instruments):\n",
    "        # Hardcoded for now:\n",
    "        if instrument.program == 0 and 'piano' in instrument.name.lower():\n",
    "            \"\"\"\n",
    "                Generate a unique top level index per song and instrument in this song,\n",
    "                if it has multiples of the same kind.\n",
    "            \"\"\"\n",
    "            top_level_index = \"{}_{}:{}\".format(song_name, i, j)\n",
    "\n",
    "            df = encode_dummies(instrument, sampling_freq).fillna(value=0) # Fill invalid values\n",
    "            df = trim_blanks(df)\n",
    "            if df is None:\n",
    "                # We've got an empty track\n",
    "                continue\n",
    "            df['timestep'] = df.index\n",
    "            df['piano_roll_name'] = top_level_index\n",
    "            df = df.set_index(['piano_roll_name', 'timestep'])\n",
    "            df.drop(labels=[pretty_midi.note_number_to_name(n) for n in range(0,48)], axis=1, inplace=True)\n",
    "            df.drop(labels=[pretty_midi.note_number_to_name(n) for n in range(109,128)], axis=1, inplace=True)\n",
    "            df.to_csv(file_name, sep=';', mode='a', encoding='utf-8', header=False)\n",
    "    "
   ]
  },
  {
   "cell_type": "code",
   "execution_count": null,
   "metadata": {},
   "outputs": [],
   "source": [
    "import librosa.display as display\n",
    "import matplotlib.pyplot as plt\n",
    "%matplotlib inline\n",
    "\n",
    "rolls = pd.read_csv(file_name, sep=';', index_col=['piano_roll_name', 'timestep'])\n",
    "rolls.head()\n",
    "first = rolls.loc['The Only Way Is Up.mid_0:4'].T\n",
    "display.specshow(first.values, y_axis='cqt_note', cmap=plt.cm.hot)"
   ]
  },
  {
   "cell_type": "code",
   "execution_count": null,
   "metadata": {},
   "outputs": [],
   "source": [
    "rolls = rolls.loc[:, (rolls != 0).any(axis=0)]\n",
    "rolls.tail(n=16)"
   ]
  }
 ],
 "metadata": {
  "kernelspec": {
   "display_name": "Python 3",
   "language": "python",
   "name": "python3"
  },
  "language_info": {
   "codemirror_mode": {
    "name": "ipython",
    "version": 3
   },
   "file_extension": ".py",
   "mimetype": "text/x-python",
   "name": "python",
   "nbconvert_exporter": "python",
   "pygments_lexer": "ipython3",
   "version": "3.6.6"
  }
 },
 "nbformat": 4,
 "nbformat_minor": 2
}
