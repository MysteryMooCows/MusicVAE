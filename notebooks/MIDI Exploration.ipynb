{
 "cells": [
  {
   "cell_type": "markdown",
   "metadata": {},
   "source": [
    "# MIDI Exploration\n",
    "\n",
    "Inspiration taken from [this tutorial](https://nbviewer.jupyter.org/github/craffel/midi-dataset/blob/master/Tutorial.ipynb).\n",
    "\n",
    "We use a reduced and cleaned Lakh MIDI dataset [LMD](https://colinraffel.com/projects/lmd/) for this exploration.\n",
    "\n",
    "It is assumed that these files are extracted in a directory called \"clean midi\" in the folder one level above this (../clean_midi)."
   ]
  },
  {
   "cell_type": "code",
   "execution_count": null,
   "metadata": {},
   "outputs": [],
   "source": [
    "#!pip install pretty-midi librosa pandas"
   ]
  },
  {
   "cell_type": "code",
   "execution_count": null,
   "metadata": {},
   "outputs": [],
   "source": [
    "# Imports\n",
    "import numpy as np\n",
    "import matplotlib.pyplot as plt\n",
    "%matplotlib inline\n",
    "import pretty_midi\n",
    "import librosa.display as display\n",
    "import os\n",
    "import pandas as pd\n",
    "\n",
    "# Local path constants\n",
    "DATA_PATH = '../clean_midi'"
   ]
  },
  {
   "cell_type": "code",
   "execution_count": null,
   "metadata": {},
   "outputs": [],
   "source": [
    "song_name = \"Head Like a Hole.mid\"\n",
    "\n",
    "pm = pretty_midi.PrettyMIDI(os.path.join(DATA_PATH, \"Nine Inch Nails/{}\".format(song_name)))\n",
    "\n",
    "piano_roll = pm.get_piano_roll()\n",
    "\n",
    "plt.figure(figsize=(10, 6))\n",
    "display.specshow(piano_roll, y_axis='cqt_note', cmap=plt.cm.hot)\n",
    "plt.title(song_name)"
   ]
  },
  {
   "cell_type": "markdown",
   "metadata": {},
   "source": [
    "# Get instrument names from midi"
   ]
  },
  {
   "cell_type": "code",
   "execution_count": null,
   "metadata": {},
   "outputs": [],
   "source": [
    "for instrument in pm.instruments:\n",
    "    print(instrument)"
   ]
  },
  {
   "cell_type": "markdown",
   "metadata": {},
   "source": [
    "# Get notes for specific instrument"
   ]
  },
  {
   "cell_type": "code",
   "execution_count": null,
   "metadata": {},
   "outputs": [],
   "source": [
    "instrument_no = 3\n",
    "\n",
    "instrument = pm.instruments[instrument_no]\n",
    "\n",
    "cols = ['start', 'end', 'pitch', 'velocity']\n",
    "\n",
    "note_seq = []\n",
    "for index, note in enumerate(instrument.notes):\n",
    "    note_seq.append([note.start, note.end, note.pitch, note.velocity])\n",
    "    \n",
    "note_df = pd.DataFrame(note_seq, columns=cols)\n",
    "note_df.head()"
   ]
  },
  {
   "cell_type": "markdown",
   "metadata": {},
   "source": [
    "# Or as a numpy array"
   ]
  },
  {
   "cell_type": "code",
   "execution_count": null,
   "metadata": {},
   "outputs": [],
   "source": [
    "note_seq_np = np.zeros((len(instrument.notes), 4))\n",
    "for index, note in enumerate(instrument.notes):\n",
    "    note_seq_np[index] = [note.start, note.end, note.pitch, note.velocity]\n",
    "\n",
    "note_seq_np"
   ]
  },
  {
   "cell_type": "markdown",
   "metadata": {},
   "source": [
    "# Attribution and References\n",
    "\n",
    "- Colin Raffel. \"Learning-Based Methods for Comparing Sequences, with Applications to Audio-to-MIDI Alignment and Matching\". [PhD Thesis, 2016](http://colinraffel.com/publications/thesis.pdf).\n",
    "\n",
    "- Colin Raffel and Daniel P. W. Ellis. [Intuitive Analysis, Creation and Manipulation of MIDI Data with pretty_midi](http://colinraffel.com/publications/ismir2014intuitive.pdf). In Proceedings of the 15th International Conference on Music Information Retrieval Late Breaking and Demo Papers, 2014.\n",
    "\n",
    "- [Librosa](https://doi.org/10.5281/zenodo.591533): Audio and music signal analysis in python\n"
   ]
  },
  {
   "cell_type": "code",
   "execution_count": null,
   "metadata": {},
   "outputs": [],
   "source": []
  }
 ],
 "metadata": {
  "kernelspec": {
   "display_name": "Python 3",
   "language": "python",
   "name": "python3"
  },
  "language_info": {
   "codemirror_mode": {
    "name": "ipython",
    "version": 3
   },
   "file_extension": ".py",
   "mimetype": "text/x-python",
   "name": "python",
   "nbconvert_exporter": "python",
   "pygments_lexer": "ipython3",
   "version": "3.6.6"
  }
 },
 "nbformat": 4,
 "nbformat_minor": 2
}
