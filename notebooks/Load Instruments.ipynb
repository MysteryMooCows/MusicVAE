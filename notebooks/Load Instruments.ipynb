{
 "cells": [
  {
   "cell_type": "code",
   "execution_count": null,
   "metadata": {},
   "outputs": [],
   "source": [
    "import glob\n",
    "import os\n",
    "import pandas as pd\n",
    "\n",
    "import pretty_midi\n",
    "\n",
    "from IPython.display import clear_output"
   ]
  },
  {
   "cell_type": "code",
   "execution_count": null,
   "metadata": {},
   "outputs": [],
   "source": [
    "DATA_PATH = '../clean_midi'\n",
    "SEARCH_CRITERION = '**/*.mid'\n",
    "\n",
    "midi_files = glob.glob(os.path.join(DATA_PATH, SEARCH_CRITERION), recursive=True)"
   ]
  },
  {
   "cell_type": "markdown",
   "metadata": {},
   "source": [
    "# Simplifying the dataset\n",
    "\n",
    "To begin with, let's list all the instruments present in the midi files by count, so we can take a decision on where to start.\n",
    "We will want to only focus on training melodies for one set for now, so it makes sense to pick an instrument (program code), that is present in large quantities, and is likely to have long melodies to train on.\n",
    "\n",
    "Initial guesses would be a Piano or Guitar program.\n",
    "\n",
    "Some songs might have duplicates - we'll find a way to deal with this later if necessary.\n",
    "\n",
    "[See here](https://soundprogramming.net/file-formats/general-midi-instrument-list/) for a list of instrument programs and their names"
   ]
  },
  {
   "cell_type": "code",
   "execution_count": null,
   "metadata": {},
   "outputs": [],
   "source": [
    "# Save the filepath for a second pass loading the piano rolls for each instrument we will use\n",
    "\n",
    "limit = -1\n",
    "\n",
    "instrument_ary = [[]]\n",
    "instrument_ary.append(['program', 'is_drum', 'name', 'filepath'])\n",
    "# This might take a while...\n",
    "for index, file in enumerate(midi_files[:limit]):\n",
    "    clear_output(wait=True)\n",
    "    print(\"{}/{}: Loading and parsing {}.\".format(index, len(midi_files), os.path.basename(file)))\n",
    "    try:\n",
    "        pm = pretty_midi.PrettyMIDI(file)\n",
    "        instruments = pm.instruments\n",
    "\n",
    "        for instrument in instruments:\n",
    "            instrument_ary.append([instrument.program, instrument.is_drum, instrument.name.replace(';',''), file])\n",
    "    except:\n",
    "        # For now, just ignore files we can't load.\n",
    "        continue"
   ]
  },
  {
   "cell_type": "code",
   "execution_count": null,
   "metadata": {},
   "outputs": [],
   "source": [
    "df = pd.DataFrame(data=instrument_ary, columns=[\"program\", \"is_drum\", \"name\", \"filepath\"])\n",
    "df = df.dropna()\n",
    "df.head()"
   ]
  },
  {
   "cell_type": "markdown",
   "metadata": {},
   "source": [
    "# Save the loaded instruments for further processing"
   ]
  },
  {
   "cell_type": "code",
   "execution_count": null,
   "metadata": {},
   "outputs": [],
   "source": [
    "file_name = 'instruments.csv'\n",
    "df.to_csv(file_name, sep=';', encoding='utf-8')"
   ]
  },
  {
   "cell_type": "markdown",
   "metadata": {},
   "source": [
    "## Show the instruments that occur most often in different files\n",
    "\n",
    "We want to get an intuition of which songs might have the most attractive instruments to work on"
   ]
  },
  {
   "cell_type": "code",
   "execution_count": null,
   "metadata": {},
   "outputs": [],
   "source": [
    "# Show the instrument with the most unique filepath values\n",
    "df.groupby('program').nunique().sort_values('filepath', ascending=False)"
   ]
  }
 ],
 "metadata": {
  "kernelspec": {
   "display_name": "Python 3",
   "language": "python",
   "name": "python3"
  },
  "language_info": {
   "codemirror_mode": {
    "name": "ipython",
    "version": 3
   },
   "file_extension": ".py",
   "mimetype": "text/x-python",
   "name": "python",
   "nbconvert_exporter": "python",
   "pygments_lexer": "ipython3",
   "version": "3.6.6"
  }
 },
 "nbformat": 4,
 "nbformat_minor": 2
}
